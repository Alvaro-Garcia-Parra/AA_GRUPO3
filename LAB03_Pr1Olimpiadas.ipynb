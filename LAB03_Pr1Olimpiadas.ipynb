{
  "nbformat": 4,
  "nbformat_minor": 0,
  "metadata": {
    "colab": {
      "provenance": [],
      "authorship_tag": "ABX9TyM2QfpEiSOasFa8oIfpfwbA",
      "include_colab_link": true
    },
    "kernelspec": {
      "name": "python3",
      "display_name": "Python 3"
    },
    "language_info": {
      "name": "python"
    },
    "accelerator": "TPU",
    "gpuClass": "standard"
  },
  "cells": [
    {
      "cell_type": "markdown",
      "metadata": {
        "id": "view-in-github",
        "colab_type": "text"
      },
      "source": [
        "<a href=\"https://colab.research.google.com/github/Alvaro-Garcia-Parra/AA_GRUPO3/blob/main/LAB03_Pr1Olimpiadas.ipynb\" target=\"_parent\"><img src=\"https://colab.research.google.com/assets/colab-badge.svg\" alt=\"Open In Colab\"/></a>"
      ]
    },
    {
      "cell_type": "markdown",
      "source": [
        "# Librerías y funciones a utilizar"
      ],
      "metadata": {
        "id": "jEzDm839nA1K"
      }
    },
    {
      "cell_type": "code",
      "execution_count": null,
      "metadata": {
        "id": "1Oz28kq5rWOP"
      },
      "outputs": [],
      "source": [
        "import mlxtend\n",
        "from mlxtend.frequent_patterns import association_rules, apriori\n",
        "from mlxtend import frequent_patterns\n",
        "import pandas as pd\n",
        "import numpy as np\n",
        "import matplotlib.pyplot as plt\n",
        "from sklearn.model_selection import train_test_split\n",
        "from sklearn.neighbors import KNeighborsClassifier\n",
        "from sklearn.model_selection import cross_val_score\n",
        "from prettytable import PrettyTable\n",
        "from sklearn.model_selection import train_test_split\n",
        "from sklearn.metrics import confusion_matrix, classification_report"
      ]
    },
    {
      "cell_type": "markdown",
      "source": [
        "# Objetivo\n",
        "Se quiere crear un modelo que permita saber si un atleta español va a tener medalla de oro, plata o bronce\n",
        "en los juegos olímpicos de Tokio que se celebrarán en 2020. Para ello, tendremos en cuenta el lugar que\n",
        "ocupan en un espacio n-dimensional donde n es el número de características de cada atleta.\n",
        "\n",
        "Para ello usaremos el dataset “Juegos olímpicos” que se encuentra en Moodle. Elige el clasificador que más se\n",
        "adapte de entre los vistos en clase y usa scikit-learn junto con las librerías que necesites para resolver las\n",
        "siguientes cuestiones.\n",
        "\n",
        "1) Haz todo el preprocesamiento para crear un set de entrenamiento y otro de validación qué permita\n",
        "clasificar atletas qué tengan sólo las características necesarias. Aparte de los totalmente necesarios,\n",
        "usaremos como atributos: Sexo, Edad, Altura y Peso. Explica qué has hecho y porqué. (0,5 puntos)\n",
        "\n",
        "2) Prueba con distintas configuraciones de las dos métricas principales. La primera métrica corresponde\n",
        "al número de individuos que usarás para clasificar una nueva instancia y la segunda cómo vas a medir\n",
        "la cercanía de esa nueva instancia con el resto. (1 punto)\n",
        "\n",
        "3) Elige la mejor configuración entre las anteriores. Para ello dibuja una tabla ver cómo evoluciona la\n",
        "clasificación. Dibuja los resultados que se obtienen con ambas configuraciones elegidas cómo las\n",
        "mejores. (1 punto)\n",
        "\n",
        "4) Utiliza el clasificador para saber que medalla es más probable que ganen Bruno Hortelano (Athletycs),\n",
        "Carolina Marín (Badminton) o la selección femenina de baloncesto (Basketball). (0,5 puntos"
      ],
      "metadata": {
        "id": "m9y8XU2PnE3c"
      }
    },
    {
      "cell_type": "markdown",
      "source": [
        "## Desarrollo\n",
        "### Lectura y preprocesamiento de los datos"
      ],
      "metadata": {
        "id": "z7uXYkfinaao"
      }
    },
    {
      "cell_type": "code",
      "source": [
        "# Lectura de la base de datos\n",
        "filename = 'olimpiadas.csv'\n",
        "data = pd.read_csv(filename, sep = ',')\n",
        "\n",
        "# Revisión de los tipos de datos\n",
        "print(data.dtypes)\n",
        "data"
      ],
      "metadata": {
        "colab": {
          "base_uri": "https://localhost:8080/",
          "height": 701
        },
        "id": "CZxHDJIPtJMP",
        "outputId": "257be462-2884-40f4-da49-524b8c66eaa1"
      },
      "execution_count": null,
      "outputs": [
        {
          "output_type": "stream",
          "name": "stdout",
          "text": [
            "ID          int64\n",
            "Name       object\n",
            "Sex        object\n",
            "Age       float64\n",
            "Height    float64\n",
            "Weight    float64\n",
            "Team       object\n",
            "NOC        object\n",
            "Games      object\n",
            "Year        int64\n",
            "Season     object\n",
            "City       object\n",
            "Sport      object\n",
            "Event      object\n",
            "Medal      object\n",
            "dtype: object\n"
          ]
        },
        {
          "output_type": "execute_result",
          "data": {
            "text/plain": [
              "            ID                      Name Sex   Age  Height  Weight  \\\n",
              "0            1                 A Dijiang   M  24.0   180.0    80.0   \n",
              "1            2                  A Lamusi   M  23.0   170.0    60.0   \n",
              "2            3       Gunnar Nielsen Aaby   M  24.0     NaN     NaN   \n",
              "3            4      Edgar Lindenau Aabye   M  34.0     NaN     NaN   \n",
              "4            5  Christine Jacoba Aaftink   F  21.0   185.0    82.0   \n",
              "...        ...                       ...  ..   ...     ...     ...   \n",
              "271111  135569                Andrzej ya   M  29.0   179.0    89.0   \n",
              "271112  135570                  Piotr ya   M  27.0   176.0    59.0   \n",
              "271113  135570                  Piotr ya   M  27.0   176.0    59.0   \n",
              "271114  135571        Tomasz Ireneusz ya   M  30.0   185.0    96.0   \n",
              "271115  135571        Tomasz Ireneusz ya   M  34.0   185.0    96.0   \n",
              "\n",
              "                  Team  NOC        Games  Year  Season            City  \\\n",
              "0                China  CHN  1992 Summer  1992  Summer       Barcelona   \n",
              "1                China  CHN  2012 Summer  2012  Summer          London   \n",
              "2              Denmark  DEN  1920 Summer  1920  Summer       Antwerpen   \n",
              "3       Denmark/Sweden  DEN  1900 Summer  1900  Summer           Paris   \n",
              "4          Netherlands  NED  1988 Winter  1988  Winter         Calgary   \n",
              "...                ...  ...          ...   ...     ...             ...   \n",
              "271111        Poland-1  POL  1976 Winter  1976  Winter       Innsbruck   \n",
              "271112          Poland  POL  2014 Winter  2014  Winter           Sochi   \n",
              "271113          Poland  POL  2014 Winter  2014  Winter           Sochi   \n",
              "271114          Poland  POL  1998 Winter  1998  Winter          Nagano   \n",
              "271115          Poland  POL  2002 Winter  2002  Winter  Salt Lake City   \n",
              "\n",
              "                Sport                                     Event Medal  \n",
              "0          Basketball               Basketball Men's Basketball   NaN  \n",
              "1                Judo              Judo Men's Extra-Lightweight   NaN  \n",
              "2            Football                   Football Men's Football   NaN  \n",
              "3          Tug-Of-War               Tug-Of-War Men's Tug-Of-War  Gold  \n",
              "4       Speed Skating          Speed Skating Women's 500 metres   NaN  \n",
              "...               ...                                       ...   ...  \n",
              "271111           Luge                Luge Mixed (Men)'s Doubles   NaN  \n",
              "271112    Ski Jumping  Ski Jumping Men's Large Hill, Individual   NaN  \n",
              "271113    Ski Jumping        Ski Jumping Men's Large Hill, Team   NaN  \n",
              "271114      Bobsleigh                      Bobsleigh Men's Four   NaN  \n",
              "271115      Bobsleigh                      Bobsleigh Men's Four   NaN  \n",
              "\n",
              "[271116 rows x 15 columns]"
            ],
            "text/html": [
              "\n",
              "  <div id=\"df-3aec9530-1bfe-4f7f-8569-16a40e8da6ce\">\n",
              "    <div class=\"colab-df-container\">\n",
              "      <div>\n",
              "<style scoped>\n",
              "    .dataframe tbody tr th:only-of-type {\n",
              "        vertical-align: middle;\n",
              "    }\n",
              "\n",
              "    .dataframe tbody tr th {\n",
              "        vertical-align: top;\n",
              "    }\n",
              "\n",
              "    .dataframe thead th {\n",
              "        text-align: right;\n",
              "    }\n",
              "</style>\n",
              "<table border=\"1\" class=\"dataframe\">\n",
              "  <thead>\n",
              "    <tr style=\"text-align: right;\">\n",
              "      <th></th>\n",
              "      <th>ID</th>\n",
              "      <th>Name</th>\n",
              "      <th>Sex</th>\n",
              "      <th>Age</th>\n",
              "      <th>Height</th>\n",
              "      <th>Weight</th>\n",
              "      <th>Team</th>\n",
              "      <th>NOC</th>\n",
              "      <th>Games</th>\n",
              "      <th>Year</th>\n",
              "      <th>Season</th>\n",
              "      <th>City</th>\n",
              "      <th>Sport</th>\n",
              "      <th>Event</th>\n",
              "      <th>Medal</th>\n",
              "    </tr>\n",
              "  </thead>\n",
              "  <tbody>\n",
              "    <tr>\n",
              "      <th>0</th>\n",
              "      <td>1</td>\n",
              "      <td>A Dijiang</td>\n",
              "      <td>M</td>\n",
              "      <td>24.0</td>\n",
              "      <td>180.0</td>\n",
              "      <td>80.0</td>\n",
              "      <td>China</td>\n",
              "      <td>CHN</td>\n",
              "      <td>1992 Summer</td>\n",
              "      <td>1992</td>\n",
              "      <td>Summer</td>\n",
              "      <td>Barcelona</td>\n",
              "      <td>Basketball</td>\n",
              "      <td>Basketball Men's Basketball</td>\n",
              "      <td>NaN</td>\n",
              "    </tr>\n",
              "    <tr>\n",
              "      <th>1</th>\n",
              "      <td>2</td>\n",
              "      <td>A Lamusi</td>\n",
              "      <td>M</td>\n",
              "      <td>23.0</td>\n",
              "      <td>170.0</td>\n",
              "      <td>60.0</td>\n",
              "      <td>China</td>\n",
              "      <td>CHN</td>\n",
              "      <td>2012 Summer</td>\n",
              "      <td>2012</td>\n",
              "      <td>Summer</td>\n",
              "      <td>London</td>\n",
              "      <td>Judo</td>\n",
              "      <td>Judo Men's Extra-Lightweight</td>\n",
              "      <td>NaN</td>\n",
              "    </tr>\n",
              "    <tr>\n",
              "      <th>2</th>\n",
              "      <td>3</td>\n",
              "      <td>Gunnar Nielsen Aaby</td>\n",
              "      <td>M</td>\n",
              "      <td>24.0</td>\n",
              "      <td>NaN</td>\n",
              "      <td>NaN</td>\n",
              "      <td>Denmark</td>\n",
              "      <td>DEN</td>\n",
              "      <td>1920 Summer</td>\n",
              "      <td>1920</td>\n",
              "      <td>Summer</td>\n",
              "      <td>Antwerpen</td>\n",
              "      <td>Football</td>\n",
              "      <td>Football Men's Football</td>\n",
              "      <td>NaN</td>\n",
              "    </tr>\n",
              "    <tr>\n",
              "      <th>3</th>\n",
              "      <td>4</td>\n",
              "      <td>Edgar Lindenau Aabye</td>\n",
              "      <td>M</td>\n",
              "      <td>34.0</td>\n",
              "      <td>NaN</td>\n",
              "      <td>NaN</td>\n",
              "      <td>Denmark/Sweden</td>\n",
              "      <td>DEN</td>\n",
              "      <td>1900 Summer</td>\n",
              "      <td>1900</td>\n",
              "      <td>Summer</td>\n",
              "      <td>Paris</td>\n",
              "      <td>Tug-Of-War</td>\n",
              "      <td>Tug-Of-War Men's Tug-Of-War</td>\n",
              "      <td>Gold</td>\n",
              "    </tr>\n",
              "    <tr>\n",
              "      <th>4</th>\n",
              "      <td>5</td>\n",
              "      <td>Christine Jacoba Aaftink</td>\n",
              "      <td>F</td>\n",
              "      <td>21.0</td>\n",
              "      <td>185.0</td>\n",
              "      <td>82.0</td>\n",
              "      <td>Netherlands</td>\n",
              "      <td>NED</td>\n",
              "      <td>1988 Winter</td>\n",
              "      <td>1988</td>\n",
              "      <td>Winter</td>\n",
              "      <td>Calgary</td>\n",
              "      <td>Speed Skating</td>\n",
              "      <td>Speed Skating Women's 500 metres</td>\n",
              "      <td>NaN</td>\n",
              "    </tr>\n",
              "    <tr>\n",
              "      <th>...</th>\n",
              "      <td>...</td>\n",
              "      <td>...</td>\n",
              "      <td>...</td>\n",
              "      <td>...</td>\n",
              "      <td>...</td>\n",
              "      <td>...</td>\n",
              "      <td>...</td>\n",
              "      <td>...</td>\n",
              "      <td>...</td>\n",
              "      <td>...</td>\n",
              "      <td>...</td>\n",
              "      <td>...</td>\n",
              "      <td>...</td>\n",
              "      <td>...</td>\n",
              "      <td>...</td>\n",
              "    </tr>\n",
              "    <tr>\n",
              "      <th>271111</th>\n",
              "      <td>135569</td>\n",
              "      <td>Andrzej ya</td>\n",
              "      <td>M</td>\n",
              "      <td>29.0</td>\n",
              "      <td>179.0</td>\n",
              "      <td>89.0</td>\n",
              "      <td>Poland-1</td>\n",
              "      <td>POL</td>\n",
              "      <td>1976 Winter</td>\n",
              "      <td>1976</td>\n",
              "      <td>Winter</td>\n",
              "      <td>Innsbruck</td>\n",
              "      <td>Luge</td>\n",
              "      <td>Luge Mixed (Men)'s Doubles</td>\n",
              "      <td>NaN</td>\n",
              "    </tr>\n",
              "    <tr>\n",
              "      <th>271112</th>\n",
              "      <td>135570</td>\n",
              "      <td>Piotr ya</td>\n",
              "      <td>M</td>\n",
              "      <td>27.0</td>\n",
              "      <td>176.0</td>\n",
              "      <td>59.0</td>\n",
              "      <td>Poland</td>\n",
              "      <td>POL</td>\n",
              "      <td>2014 Winter</td>\n",
              "      <td>2014</td>\n",
              "      <td>Winter</td>\n",
              "      <td>Sochi</td>\n",
              "      <td>Ski Jumping</td>\n",
              "      <td>Ski Jumping Men's Large Hill, Individual</td>\n",
              "      <td>NaN</td>\n",
              "    </tr>\n",
              "    <tr>\n",
              "      <th>271113</th>\n",
              "      <td>135570</td>\n",
              "      <td>Piotr ya</td>\n",
              "      <td>M</td>\n",
              "      <td>27.0</td>\n",
              "      <td>176.0</td>\n",
              "      <td>59.0</td>\n",
              "      <td>Poland</td>\n",
              "      <td>POL</td>\n",
              "      <td>2014 Winter</td>\n",
              "      <td>2014</td>\n",
              "      <td>Winter</td>\n",
              "      <td>Sochi</td>\n",
              "      <td>Ski Jumping</td>\n",
              "      <td>Ski Jumping Men's Large Hill, Team</td>\n",
              "      <td>NaN</td>\n",
              "    </tr>\n",
              "    <tr>\n",
              "      <th>271114</th>\n",
              "      <td>135571</td>\n",
              "      <td>Tomasz Ireneusz ya</td>\n",
              "      <td>M</td>\n",
              "      <td>30.0</td>\n",
              "      <td>185.0</td>\n",
              "      <td>96.0</td>\n",
              "      <td>Poland</td>\n",
              "      <td>POL</td>\n",
              "      <td>1998 Winter</td>\n",
              "      <td>1998</td>\n",
              "      <td>Winter</td>\n",
              "      <td>Nagano</td>\n",
              "      <td>Bobsleigh</td>\n",
              "      <td>Bobsleigh Men's Four</td>\n",
              "      <td>NaN</td>\n",
              "    </tr>\n",
              "    <tr>\n",
              "      <th>271115</th>\n",
              "      <td>135571</td>\n",
              "      <td>Tomasz Ireneusz ya</td>\n",
              "      <td>M</td>\n",
              "      <td>34.0</td>\n",
              "      <td>185.0</td>\n",
              "      <td>96.0</td>\n",
              "      <td>Poland</td>\n",
              "      <td>POL</td>\n",
              "      <td>2002 Winter</td>\n",
              "      <td>2002</td>\n",
              "      <td>Winter</td>\n",
              "      <td>Salt Lake City</td>\n",
              "      <td>Bobsleigh</td>\n",
              "      <td>Bobsleigh Men's Four</td>\n",
              "      <td>NaN</td>\n",
              "    </tr>\n",
              "  </tbody>\n",
              "</table>\n",
              "<p>271116 rows × 15 columns</p>\n",
              "</div>\n",
              "      <button class=\"colab-df-convert\" onclick=\"convertToInteractive('df-3aec9530-1bfe-4f7f-8569-16a40e8da6ce')\"\n",
              "              title=\"Convert this dataframe to an interactive table.\"\n",
              "              style=\"display:none;\">\n",
              "        \n",
              "  <svg xmlns=\"http://www.w3.org/2000/svg\" height=\"24px\"viewBox=\"0 0 24 24\"\n",
              "       width=\"24px\">\n",
              "    <path d=\"M0 0h24v24H0V0z\" fill=\"none\"/>\n",
              "    <path d=\"M18.56 5.44l.94 2.06.94-2.06 2.06-.94-2.06-.94-.94-2.06-.94 2.06-2.06.94zm-11 1L8.5 8.5l.94-2.06 2.06-.94-2.06-.94L8.5 2.5l-.94 2.06-2.06.94zm10 10l.94 2.06.94-2.06 2.06-.94-2.06-.94-.94-2.06-.94 2.06-2.06.94z\"/><path d=\"M17.41 7.96l-1.37-1.37c-.4-.4-.92-.59-1.43-.59-.52 0-1.04.2-1.43.59L10.3 9.45l-7.72 7.72c-.78.78-.78 2.05 0 2.83L4 21.41c.39.39.9.59 1.41.59.51 0 1.02-.2 1.41-.59l7.78-7.78 2.81-2.81c.8-.78.8-2.07 0-2.86zM5.41 20L4 18.59l7.72-7.72 1.47 1.35L5.41 20z\"/>\n",
              "  </svg>\n",
              "      </button>\n",
              "      \n",
              "  <style>\n",
              "    .colab-df-container {\n",
              "      display:flex;\n",
              "      flex-wrap:wrap;\n",
              "      gap: 12px;\n",
              "    }\n",
              "\n",
              "    .colab-df-convert {\n",
              "      background-color: #E8F0FE;\n",
              "      border: none;\n",
              "      border-radius: 50%;\n",
              "      cursor: pointer;\n",
              "      display: none;\n",
              "      fill: #1967D2;\n",
              "      height: 32px;\n",
              "      padding: 0 0 0 0;\n",
              "      width: 32px;\n",
              "    }\n",
              "\n",
              "    .colab-df-convert:hover {\n",
              "      background-color: #E2EBFA;\n",
              "      box-shadow: 0px 1px 2px rgba(60, 64, 67, 0.3), 0px 1px 3px 1px rgba(60, 64, 67, 0.15);\n",
              "      fill: #174EA6;\n",
              "    }\n",
              "\n",
              "    [theme=dark] .colab-df-convert {\n",
              "      background-color: #3B4455;\n",
              "      fill: #D2E3FC;\n",
              "    }\n",
              "\n",
              "    [theme=dark] .colab-df-convert:hover {\n",
              "      background-color: #434B5C;\n",
              "      box-shadow: 0px 1px 3px 1px rgba(0, 0, 0, 0.15);\n",
              "      filter: drop-shadow(0px 1px 2px rgba(0, 0, 0, 0.3));\n",
              "      fill: #FFFFFF;\n",
              "    }\n",
              "  </style>\n",
              "\n",
              "      <script>\n",
              "        const buttonEl =\n",
              "          document.querySelector('#df-3aec9530-1bfe-4f7f-8569-16a40e8da6ce button.colab-df-convert');\n",
              "        buttonEl.style.display =\n",
              "          google.colab.kernel.accessAllowed ? 'block' : 'none';\n",
              "\n",
              "        async function convertToInteractive(key) {\n",
              "          const element = document.querySelector('#df-3aec9530-1bfe-4f7f-8569-16a40e8da6ce');\n",
              "          const dataTable =\n",
              "            await google.colab.kernel.invokeFunction('convertToInteractive',\n",
              "                                                     [key], {});\n",
              "          if (!dataTable) return;\n",
              "\n",
              "          const docLinkHtml = 'Like what you see? Visit the ' +\n",
              "            '<a target=\"_blank\" href=https://colab.research.google.com/notebooks/data_table.ipynb>data table notebook</a>'\n",
              "            + ' to learn more about interactive tables.';\n",
              "          element.innerHTML = '';\n",
              "          dataTable['output_type'] = 'display_data';\n",
              "          await google.colab.output.renderOutput(dataTable, element);\n",
              "          const docLink = document.createElement('div');\n",
              "          docLink.innerHTML = docLinkHtml;\n",
              "          element.appendChild(docLink);\n",
              "        }\n",
              "      </script>\n",
              "    </div>\n",
              "  </div>\n",
              "  "
            ]
          },
          "metadata": {},
          "execution_count": 30
        }
      ]
    },
    {
      "cell_type": "markdown",
      "source": [
        "Creamos un nuevo dataset con las variables necesarias como nos pide en el primer apartado. A parte de los necesarios ya indicados, añadimos 'Games' (año y estación en la que participa en las olimpiadas) y 'Sport' (deporte en el que compite). Hemos añadido estas dos variables ya que nos parecen muy relevantes a la hora de predecir si ganará medalla o no.\n",
        " - Sport: Esta variable ha sido elegida porque no es \"justo\" comparar a dos participantes en los que compiten en distintos deportes.\n",
        " - Games: Al igual que la anterior variable, por la misma razón, no podemos comparar dos participantes que han competido en distinta época del año o incluso en distinto año ya que vemos mucha diferencia y mucha mejoría en los participantes a lo largo de los años."
      ],
      "metadata": {
        "id": "TCNZT-EEntlF"
      }
    },
    {
      "cell_type": "code",
      "source": [
        "# Creamos el nuevo dataset con las variables necesarias\n",
        "data = data[['Sex','Age','Height','Weight','Games','Sport','Medal']]\n",
        "data.drop_duplicates()\n",
        "data"
      ],
      "metadata": {
        "colab": {
          "base_uri": "https://localhost:8080/",
          "height": 424
        },
        "id": "Bm_GCIZZtYLz",
        "outputId": "5529ad33-43ec-49ef-f77a-a14a3f6c7012"
      },
      "execution_count": null,
      "outputs": [
        {
          "output_type": "execute_result",
          "data": {
            "text/plain": [
              "       Sex   Age  Height  Weight        Games          Sport Medal\n",
              "0        M  24.0   180.0    80.0  1992 Summer     Basketball   NaN\n",
              "1        M  23.0   170.0    60.0  2012 Summer           Judo   NaN\n",
              "2        M  24.0     NaN     NaN  1920 Summer       Football   NaN\n",
              "3        M  34.0     NaN     NaN  1900 Summer     Tug-Of-War  Gold\n",
              "4        F  21.0   185.0    82.0  1988 Winter  Speed Skating   NaN\n",
              "...     ..   ...     ...     ...          ...            ...   ...\n",
              "271111   M  29.0   179.0    89.0  1976 Winter           Luge   NaN\n",
              "271112   M  27.0   176.0    59.0  2014 Winter    Ski Jumping   NaN\n",
              "271113   M  27.0   176.0    59.0  2014 Winter    Ski Jumping   NaN\n",
              "271114   M  30.0   185.0    96.0  1998 Winter      Bobsleigh   NaN\n",
              "271115   M  34.0   185.0    96.0  2002 Winter      Bobsleigh   NaN\n",
              "\n",
              "[271116 rows x 7 columns]"
            ],
            "text/html": [
              "\n",
              "  <div id=\"df-e200426c-ab2a-43ec-a62e-cad89df99ea7\">\n",
              "    <div class=\"colab-df-container\">\n",
              "      <div>\n",
              "<style scoped>\n",
              "    .dataframe tbody tr th:only-of-type {\n",
              "        vertical-align: middle;\n",
              "    }\n",
              "\n",
              "    .dataframe tbody tr th {\n",
              "        vertical-align: top;\n",
              "    }\n",
              "\n",
              "    .dataframe thead th {\n",
              "        text-align: right;\n",
              "    }\n",
              "</style>\n",
              "<table border=\"1\" class=\"dataframe\">\n",
              "  <thead>\n",
              "    <tr style=\"text-align: right;\">\n",
              "      <th></th>\n",
              "      <th>Sex</th>\n",
              "      <th>Age</th>\n",
              "      <th>Height</th>\n",
              "      <th>Weight</th>\n",
              "      <th>Games</th>\n",
              "      <th>Sport</th>\n",
              "      <th>Medal</th>\n",
              "    </tr>\n",
              "  </thead>\n",
              "  <tbody>\n",
              "    <tr>\n",
              "      <th>0</th>\n",
              "      <td>M</td>\n",
              "      <td>24.0</td>\n",
              "      <td>180.0</td>\n",
              "      <td>80.0</td>\n",
              "      <td>1992 Summer</td>\n",
              "      <td>Basketball</td>\n",
              "      <td>NaN</td>\n",
              "    </tr>\n",
              "    <tr>\n",
              "      <th>1</th>\n",
              "      <td>M</td>\n",
              "      <td>23.0</td>\n",
              "      <td>170.0</td>\n",
              "      <td>60.0</td>\n",
              "      <td>2012 Summer</td>\n",
              "      <td>Judo</td>\n",
              "      <td>NaN</td>\n",
              "    </tr>\n",
              "    <tr>\n",
              "      <th>2</th>\n",
              "      <td>M</td>\n",
              "      <td>24.0</td>\n",
              "      <td>NaN</td>\n",
              "      <td>NaN</td>\n",
              "      <td>1920 Summer</td>\n",
              "      <td>Football</td>\n",
              "      <td>NaN</td>\n",
              "    </tr>\n",
              "    <tr>\n",
              "      <th>3</th>\n",
              "      <td>M</td>\n",
              "      <td>34.0</td>\n",
              "      <td>NaN</td>\n",
              "      <td>NaN</td>\n",
              "      <td>1900 Summer</td>\n",
              "      <td>Tug-Of-War</td>\n",
              "      <td>Gold</td>\n",
              "    </tr>\n",
              "    <tr>\n",
              "      <th>4</th>\n",
              "      <td>F</td>\n",
              "      <td>21.0</td>\n",
              "      <td>185.0</td>\n",
              "      <td>82.0</td>\n",
              "      <td>1988 Winter</td>\n",
              "      <td>Speed Skating</td>\n",
              "      <td>NaN</td>\n",
              "    </tr>\n",
              "    <tr>\n",
              "      <th>...</th>\n",
              "      <td>...</td>\n",
              "      <td>...</td>\n",
              "      <td>...</td>\n",
              "      <td>...</td>\n",
              "      <td>...</td>\n",
              "      <td>...</td>\n",
              "      <td>...</td>\n",
              "    </tr>\n",
              "    <tr>\n",
              "      <th>271111</th>\n",
              "      <td>M</td>\n",
              "      <td>29.0</td>\n",
              "      <td>179.0</td>\n",
              "      <td>89.0</td>\n",
              "      <td>1976 Winter</td>\n",
              "      <td>Luge</td>\n",
              "      <td>NaN</td>\n",
              "    </tr>\n",
              "    <tr>\n",
              "      <th>271112</th>\n",
              "      <td>M</td>\n",
              "      <td>27.0</td>\n",
              "      <td>176.0</td>\n",
              "      <td>59.0</td>\n",
              "      <td>2014 Winter</td>\n",
              "      <td>Ski Jumping</td>\n",
              "      <td>NaN</td>\n",
              "    </tr>\n",
              "    <tr>\n",
              "      <th>271113</th>\n",
              "      <td>M</td>\n",
              "      <td>27.0</td>\n",
              "      <td>176.0</td>\n",
              "      <td>59.0</td>\n",
              "      <td>2014 Winter</td>\n",
              "      <td>Ski Jumping</td>\n",
              "      <td>NaN</td>\n",
              "    </tr>\n",
              "    <tr>\n",
              "      <th>271114</th>\n",
              "      <td>M</td>\n",
              "      <td>30.0</td>\n",
              "      <td>185.0</td>\n",
              "      <td>96.0</td>\n",
              "      <td>1998 Winter</td>\n",
              "      <td>Bobsleigh</td>\n",
              "      <td>NaN</td>\n",
              "    </tr>\n",
              "    <tr>\n",
              "      <th>271115</th>\n",
              "      <td>M</td>\n",
              "      <td>34.0</td>\n",
              "      <td>185.0</td>\n",
              "      <td>96.0</td>\n",
              "      <td>2002 Winter</td>\n",
              "      <td>Bobsleigh</td>\n",
              "      <td>NaN</td>\n",
              "    </tr>\n",
              "  </tbody>\n",
              "</table>\n",
              "<p>271116 rows × 7 columns</p>\n",
              "</div>\n",
              "      <button class=\"colab-df-convert\" onclick=\"convertToInteractive('df-e200426c-ab2a-43ec-a62e-cad89df99ea7')\"\n",
              "              title=\"Convert this dataframe to an interactive table.\"\n",
              "              style=\"display:none;\">\n",
              "        \n",
              "  <svg xmlns=\"http://www.w3.org/2000/svg\" height=\"24px\"viewBox=\"0 0 24 24\"\n",
              "       width=\"24px\">\n",
              "    <path d=\"M0 0h24v24H0V0z\" fill=\"none\"/>\n",
              "    <path d=\"M18.56 5.44l.94 2.06.94-2.06 2.06-.94-2.06-.94-.94-2.06-.94 2.06-2.06.94zm-11 1L8.5 8.5l.94-2.06 2.06-.94-2.06-.94L8.5 2.5l-.94 2.06-2.06.94zm10 10l.94 2.06.94-2.06 2.06-.94-2.06-.94-.94-2.06-.94 2.06-2.06.94z\"/><path d=\"M17.41 7.96l-1.37-1.37c-.4-.4-.92-.59-1.43-.59-.52 0-1.04.2-1.43.59L10.3 9.45l-7.72 7.72c-.78.78-.78 2.05 0 2.83L4 21.41c.39.39.9.59 1.41.59.51 0 1.02-.2 1.41-.59l7.78-7.78 2.81-2.81c.8-.78.8-2.07 0-2.86zM5.41 20L4 18.59l7.72-7.72 1.47 1.35L5.41 20z\"/>\n",
              "  </svg>\n",
              "      </button>\n",
              "      \n",
              "  <style>\n",
              "    .colab-df-container {\n",
              "      display:flex;\n",
              "      flex-wrap:wrap;\n",
              "      gap: 12px;\n",
              "    }\n",
              "\n",
              "    .colab-df-convert {\n",
              "      background-color: #E8F0FE;\n",
              "      border: none;\n",
              "      border-radius: 50%;\n",
              "      cursor: pointer;\n",
              "      display: none;\n",
              "      fill: #1967D2;\n",
              "      height: 32px;\n",
              "      padding: 0 0 0 0;\n",
              "      width: 32px;\n",
              "    }\n",
              "\n",
              "    .colab-df-convert:hover {\n",
              "      background-color: #E2EBFA;\n",
              "      box-shadow: 0px 1px 2px rgba(60, 64, 67, 0.3), 0px 1px 3px 1px rgba(60, 64, 67, 0.15);\n",
              "      fill: #174EA6;\n",
              "    }\n",
              "\n",
              "    [theme=dark] .colab-df-convert {\n",
              "      background-color: #3B4455;\n",
              "      fill: #D2E3FC;\n",
              "    }\n",
              "\n",
              "    [theme=dark] .colab-df-convert:hover {\n",
              "      background-color: #434B5C;\n",
              "      box-shadow: 0px 1px 3px 1px rgba(0, 0, 0, 0.15);\n",
              "      filter: drop-shadow(0px 1px 2px rgba(0, 0, 0, 0.3));\n",
              "      fill: #FFFFFF;\n",
              "    }\n",
              "  </style>\n",
              "\n",
              "      <script>\n",
              "        const buttonEl =\n",
              "          document.querySelector('#df-e200426c-ab2a-43ec-a62e-cad89df99ea7 button.colab-df-convert');\n",
              "        buttonEl.style.display =\n",
              "          google.colab.kernel.accessAllowed ? 'block' : 'none';\n",
              "\n",
              "        async function convertToInteractive(key) {\n",
              "          const element = document.querySelector('#df-e200426c-ab2a-43ec-a62e-cad89df99ea7');\n",
              "          const dataTable =\n",
              "            await google.colab.kernel.invokeFunction('convertToInteractive',\n",
              "                                                     [key], {});\n",
              "          if (!dataTable) return;\n",
              "\n",
              "          const docLinkHtml = 'Like what you see? Visit the ' +\n",
              "            '<a target=\"_blank\" href=https://colab.research.google.com/notebooks/data_table.ipynb>data table notebook</a>'\n",
              "            + ' to learn more about interactive tables.';\n",
              "          element.innerHTML = '';\n",
              "          dataTable['output_type'] = 'display_data';\n",
              "          await google.colab.output.renderOutput(dataTable, element);\n",
              "          const docLink = document.createElement('div');\n",
              "          docLink.innerHTML = docLinkHtml;\n",
              "          element.appendChild(docLink);\n",
              "        }\n",
              "      </script>\n",
              "    </div>\n",
              "  </div>\n",
              "  "
            ]
          },
          "metadata": {},
          "execution_count": 31
        }
      ]
    },
    {
      "cell_type": "markdown",
      "source": [
        "Comprobamos los valores vacíos que hay en la base de datos.\n",
        "Debido a que esta contiene muchos datos, hemos tomado la decisión de que lo mejor en este caso es eliminar las filas las cuales contienen algún valor nulo. Como podemos observar a continuación, los únicos atributos que contienen NaN son 'Age', 'Weight', 'Height' y 'Medal'."
      ],
      "metadata": {
        "id": "75cRt_wQpf1J"
      }
    },
    {
      "cell_type": "code",
      "source": [
        "data.info(verbose=True, null_counts=True)"
      ],
      "metadata": {
        "colab": {
          "base_uri": "https://localhost:8080/"
        },
        "id": "kpB6qN30z5ld",
        "outputId": "6d0f5a76-e2b8-42de-daeb-19c067a7ef4a"
      },
      "execution_count": null,
      "outputs": [
        {
          "output_type": "stream",
          "name": "stdout",
          "text": [
            "<class 'pandas.core.frame.DataFrame'>\n",
            "RangeIndex: 271116 entries, 0 to 271115\n",
            "Data columns (total 7 columns):\n",
            " #   Column  Non-Null Count   Dtype  \n",
            "---  ------  --------------   -----  \n",
            " 0   Sex     271116 non-null  object \n",
            " 1   Age     261642 non-null  float64\n",
            " 2   Height  210945 non-null  float64\n",
            " 3   Weight  208241 non-null  float64\n",
            " 4   Games   271116 non-null  object \n",
            " 5   Sport   271116 non-null  object \n",
            " 6   Medal   39783 non-null   object \n",
            "dtypes: float64(3), object(4)\n",
            "memory usage: 14.5+ MB\n"
          ]
        },
        {
          "output_type": "stream",
          "name": "stderr",
          "text": [
            "<ipython-input-32-c1a516913eb1>:1: FutureWarning: null_counts is deprecated. Use show_counts instead\n",
            "  data.info(verbose=True, null_counts=True)\n"
          ]
        }
      ]
    },
    {
      "cell_type": "markdown",
      "source": [
        "Por lo tanto, como ya hemos comentado, eliminamos todas las filas en las cuales contienen algún valor NaN en alguno de los atributos, sin embargo; en el atributo 'Medal' cambiamos el valor a 'None', ya que interpretamos que si contienen un valor nulo quiere decir que no han ganado ninguna medalla cuando participaron."
      ],
      "metadata": {
        "id": "Qf5V3TzLqHid"
      }
    },
    {
      "cell_type": "code",
      "source": [
        "data = data.drop(data[np.isnan(data['Age'])].index)\n",
        "data = data.drop(data[np.isnan(data['Weight'])].index)\n",
        "data = data.drop(data[np.isnan(data['Height'])].index)\n",
        "data['Medal'].fillna('None', inplace = True)"
      ],
      "metadata": {
        "id": "_F3PSBED4ERs"
      },
      "execution_count": null,
      "outputs": []
    },
    {
      "cell_type": "markdown",
      "source": [
        "A continuación, vemos los outliers de nuestras variables numéricas (Age, Weight, Height). De tal forma que si encontramos algún valor anómalo podríamos cambiar dicho valor o incluso eliminarlos de la base de datos.\n",
        "Pero como podremos ver, no hay ningún valor que sea extraño. Si es verdad que hay algunos casos extremos, como por ejemplo, un participante que pesa 25 kg. Pero, a pesar de esto, hemos comprobado en google estos casos extremos de los que hablamos y todos son casos reales, así que los consideramos todos correctos y decidimos dejar la base de datos tal y como estaba."
      ],
      "metadata": {
        "id": "-VVUqvJtq2ve"
      }
    },
    {
      "cell_type": "code",
      "source": [
        "# Vemos los outliers\n",
        "\n",
        "fig = plt.figure(figsize =(10, 7))\n",
        "\n",
        "# Crear gráfico\n",
        "ax = fig.add_subplot(111)\n",
        "ax.boxplot(data[\"Age\"])\n",
        "ax.set_title('Age')\n",
        "\n",
        "# Dibujar gráfico\n",
        "plt.show()"
      ],
      "metadata": {
        "colab": {
          "base_uri": "https://localhost:8080/",
          "height": 622
        },
        "id": "6-eLev5n0EdG",
        "outputId": "e81a925b-f2c1-4890-ea0d-34ca54edf806"
      },
      "execution_count": null,
      "outputs": [
        {
          "output_type": "display_data",
          "data": {
            "text/plain": [
              "<Figure size 1000x700 with 1 Axes>"
            ],
            "image/png": "[encoded data removed]"
          },
          "metadata": {}
        }
      ]
    },
    {
      "cell_type": "code",
      "source": [
        "# Vemos los outliers\n",
        "\n",
        "fig = plt.figure(figsize =(10, 7))\n",
        "\n",
        "# Crear gráfico\n",
        "ax = fig.add_subplot(111)\n",
        "ax.boxplot(data[\"Height\"])\n",
        "ax.set_title('Height')\n",
        "\n",
        "# Dibujar gráfico\n",
        "plt.show()"
      ],
      "metadata": {
        "colab": {
          "base_uri": "https://localhost:8080/",
          "height": 622
        },
        "id": "utRXYWAQ8Geq",
        "outputId": "f62638c9-41ef-4c72-ddcc-9ad740e5190b"
      },
      "execution_count": null,
      "outputs": [
        {
          "output_type": "display_data",
          "data": {
            "text/plain": [
              "<Figure size 1000x700 with 1 Axes>"
            ],
            "image/png": "[encoded data removed]"
          },
          "metadata": {}
        }
      ]
    },
    {
      "cell_type": "code",
      "source": [
        "# Vemos los outliers\n",
        "\n",
        "fig = plt.figure(figsize =(10, 7))\n",
        "\n",
        "# Crear gráfico\n",
        "ax = fig.add_subplot(111)\n",
        "ax.boxplot(data[\"Weight\"])\n",
        "ax.set_title('Weight')\n",
        "\n",
        "# Dibujar gráfico\n",
        "plt.show()"
      ],
      "metadata": {
        "colab": {
          "base_uri": "https://localhost:8080/",
          "height": 622
        },
        "id": "VASr9heC8MYe",
        "outputId": "88e7d021-c840-468f-e893-228029115cfd"
      },
      "execution_count": null,
      "outputs": [
        {
          "output_type": "display_data",
          "data": {
            "text/plain": [
              "<Figure size 1000x700 with 1 Axes>"
            ],
            "image/png": "[encoded data removed]"
          },
          "metadata": {}
        }
      ]
    },
    {
      "cell_type": "markdown",
      "source": [
        "Debido a que la base de datos sigue siendo demasiado grande a pesar de los participantes ya eliminados, nos vemos obligados a reducir considerablemente la base de datos ya que el tiempo de ejecución es muy alto.\n",
        "\n",
        "Por eso tenemos la siguiente línea: data = data.sample(n = 10000). Donde reducimos la base de datos a 10.000 participantes totalmente aleatorio. El problema principal de realizar esto es que nos arriesgamos a que nuestro subconjunto de datos todas sus etiquetas sean del mismo tipo, 'None', y por tanto no se podrá crear un clasificador en condiciones.\n",
        "\n",
        "Si queremos trabajar con toda la base de datos, lo único que hay que hacer es comentar la línea de código mencionada.\n",
        "\n",
        "Una vez explicado esto, procedemos a separar la base de datos en lo que son los individuos (X) y sus etiquetas (y). Además de añadir a los dos participantes que queremos predecir/clasificar al final de la práctica. Más adelante explicaremos la razón por la cual añadimos a estos nuevos individuos juntos con el resto."
      ],
      "metadata": {
        "id": "MuTcSWJPrzSm"
      }
    },
    {
      "cell_type": "code",
      "source": [
        "# Antes de nada definimos lo que es la etiqueta (y) y nuestros individuos\n",
        "data = data.sample(n = 10000)\n",
        "X = data.drop(['Medal'], axis = 1)\n",
        "y = data['Medal']\n",
        "\n",
        "# Añadimos los individuos que queremos clasificar\n",
        "bruno_hortelano = ['M',31,181,72,'2018 Winter','Athletics']\n",
        "carolina_marin = ['F',29,172,65,'2020 Summer','Badminton']\n",
        "\n",
        "# Convertir la lista en un dataframe con un solo renglón\n",
        "bruno_hortelano = pd.DataFrame([bruno_hortelano], columns=X.columns)\n",
        "carolina_marin = pd.DataFrame([carolina_marin], columns=X.columns)\n",
        "\n",
        "# Añadimos los individuos\n",
        "X = pd.concat([X,bruno_hortelano], ignore_index= True)\n",
        "X = pd.concat([X,carolina_marin], ignore_index= True)"
      ],
      "metadata": {
        "id": "xtDenbahyVjY"
      },
      "execution_count": null,
      "outputs": []
    },
    {
      "cell_type": "markdown",
      "source": [
        "Como la base de datos contiene datos de tipo 'string' y vamos a usar el método Knn (K- Nearest Neighbour), tenemos que categorizar dichos datos. Para ello, la forma más simple, es pasarlos a One Hot Encoding con el método 'get_dummies'. Una vez hecho esto, somos capaces de comparar dos participantes y calcular sus distancias para poder obtener el clasificador.\n",
        "\n",
        "Por eso añadimos los individuos a clasificar, ya que necesitabamos tenerlos categorizados. Como ya los tenemos los podemos sacar de la base datos y ya los utilizaremos al final de la práctica para predecir sus etiquetas."
      ],
      "metadata": {
        "id": "jh-py_DGtqG8"
      }
    },
    {
      "cell_type": "code",
      "source": [
        "# Convertir los datos de tipo string a valores numéricos utilizando la codificación one-hot encoding\n",
        "X = pd.get_dummies(X,columns=['Sex','Games','Sport'])\n",
        "carolina_marin = X.iloc[[-1]].reset_index(drop = True)\n",
        "bruno_hortelano = X.iloc[[-2]].reset_index(drop = True)\n",
        "\n",
        "X = X.drop(X.index[[-2,-1]])"
      ],
      "metadata": {
        "id": "IaaPRGSvg9PJ"
      },
      "execution_count": null,
      "outputs": []
    },
    {
      "cell_type": "markdown",
      "source": [
        "### Creación del clasificador con el método Knn\n",
        "Antes de nada, vamos a elegir cuál es el número de vecinos (k) y ka distancia (metric) más óptimo. Para ello, usamos cross-validation para elegir el mejor k. Vamos probando con las distintas K's y distintas distancias y nos quedaremos con la que tenga mayor precisión, en caso de empate de precisión nos quedamos con el que tenga mayor k. Y en caso de empate de número de vecinos, da igual que métrica usemos para medir la distancia.\n",
        "\n",
        "Utilizamos un número de vecinos impar para evitar los empates a la hora de clasificar un participante. Y comprobaremos las siguientes métricas: distancia euclidea, manhattan, hamming y minkowski.\n",
        "\n"
      ],
      "metadata": {
        "id": "k4EnrGzawUFT"
      }
    },
    {
      "cell_type": "code",
      "source": [
        "k_range = [3,5,7,9]\n",
        "distancias = ['euclidean', 'manhattan', 'hamming', 'minkowski']\n",
        "\n",
        "# Creación de la tabla\n",
        "tabla = PrettyTable()\n",
        "tabla.field_names = [\"K\",\"Distance\",\"Accuracy\"]\n",
        "\n",
        "# Guardamos en una variable la distancia y el nímero de vecinos más óptimos\n",
        "best_score = 0\n",
        "best_metric = ''\n",
        "best_k = 0\n",
        "\n",
        "for d in distancias:\n",
        "  k_scores = []\n",
        "  index = 0\n",
        "  for k in k_range:\n",
        "      knn = KNeighborsClassifier(n_neighbors = k, metric = d)\n",
        "      scores = cross_val_score(knn, X, y, cv=4, scoring='accuracy')\n",
        "      k_scores.append(scores.mean())\n",
        "\n",
        "      if scores.mean() >= best_score:\n",
        "        best_score = scores.mean()\n",
        "        best_metric = d\n",
        "        best_k = k\n",
        "\n",
        "\n",
        "      tabla.add_row([k,d,round(k_scores[index],4)])\n",
        "      index = index + 1\n",
        "\n",
        "  plt.figure()\n",
        "  plt.title(label = d)\n",
        "  plt.xlabel('k')\n",
        "  plt.ylabel('accuracy')\n",
        "  plt.scatter(k_range, k_scores)\n",
        "  plt.xticks(range(0,10))"
      ],
      "metadata": {
        "id": "pe9APV7ENhyw",
        "outputId": "7c79d5c9-0c66-4a82-cfc4-ac1cdc5120f6",
        "colab": {
          "base_uri": "https://localhost:8080/",
          "height": 1000
        }
      },
      "execution_count": null,
      "outputs": [
        {
          "output_type": "display_data",
          "data": {
            "text/plain": [
              "<Figure size 640x480 with 1 Axes>"
            ],
            "image/png": "[encoded data removed]"
          },
          "metadata": {}
        },
        {
          "output_type": "display_data",
          "data": {
            "text/plain": [
              "<Figure size 640x480 with 1 Axes>"
            ],
            "image/png": "[encoded data removed]"
          },
          "metadata": {}
        },
        {
          "output_type": "display_data",
          "data": {
            "text/plain": [
              "<Figure size 640x480 with 1 Axes>"
            ],
            "image/png": "[encoded data removed]"
          },
          "metadata": {}
        },
        {
          "output_type": "display_data",
          "data": {
            "text/plain": [
              "<Figure size 640x480 with 1 Axes>"
            ],
            "image/png": "[encoded data removed]"
          },
          "metadata": {}
        }
      ]
    },
    {
      "cell_type": "markdown",
      "source": [
        "Para comprobar cual de ellos es mejor, hemos graficado la precisión de cada métrica en función de la k. Pero no es bastante claro ya que más o menos todas siguen la misma línea. Por ello, vamos a dibujar una tabla con los valores exactos y ahí podemos compararlos más fácilmente."
      ],
      "metadata": {
        "id": "diCNZmM_0YtD"
      }
    },
    {
      "cell_type": "code",
      "source": [
        "print(tabla)\n",
        "print(\"\\nObservando la tabla podemos concluir lo siguiente:\\n\")\n",
        "print(f\"Utilizaremos la distancia {best_metric} con un número de vecinos (k = {best_k}), cuya precisión máxima es de {best_score}\")"
      ],
      "metadata": {
        "colab": {
          "base_uri": "https://localhost:8080/"
        },
        "id": "D7bjSy49GcWz",
        "outputId": "86e45836-4fc6-4a0e-d1a8-99f55c09a086"
      },
      "execution_count": null,
      "outputs": [
        {
          "output_type": "stream",
          "name": "stdout",
          "text": [
            "+---+-----------+----------+\n",
            "| K |  Distance | Accuracy |\n",
            "+---+-----------+----------+\n",
            "| 3 | euclidean |  0.8084  |\n",
            "| 5 | euclidean |  0.8392  |\n",
            "| 7 | euclidean |  0.8483  |\n",
            "| 9 | euclidean |  0.851   |\n",
            "| 3 | manhattan |  0.8092  |\n",
            "| 5 | manhattan |  0.8375  |\n",
            "| 7 | manhattan |  0.8483  |\n",
            "| 9 | manhattan |  0.8512  |\n",
            "| 3 |  hamming  |  0.8074  |\n",
            "| 5 |  hamming  |  0.8365  |\n",
            "| 7 |  hamming  |  0.8462  |\n",
            "| 9 |  hamming  |  0.8504  |\n",
            "| 3 | minkowski |  0.8084  |\n",
            "| 5 | minkowski |  0.8392  |\n",
            "| 7 | minkowski |  0.8483  |\n",
            "| 9 | minkowski |  0.851   |\n",
            "+---+-----------+----------+\n",
            "\n",
            "Observando la tabla podemos concluir lo siguiente:\n",
            "\n",
            "Utilizaremos la distancia manhattan con un número de vecinos (k = 9), cuya precisión máxima es de 0.85118\n"
          ]
        }
      ]
    },
    {
      "cell_type": "markdown",
      "source": [
        "Vemos la tabla con todos los valores de k, las metricas y la precisión correspondiente a estos. El que mayor precisión tiene es la distancia manhattan con un número de vecinos k = 9.\n",
        "\n",
        "Así es lo que vamos a utilizar para crear nuestro clasificador. Para poder realizar esto primero debemos de separar nuestros datos en entrenamiento (75 % de los datos) y test (25 % de los datos)."
      ],
      "metadata": {
        "id": "5_Pxaen60xSY"
      }
    },
    {
      "cell_type": "code",
      "source": [
        "X_train, X_test, y_train, y_test = train_test_split(X, y, test_size = 0.25, random_state = 0)\n",
        "\n",
        "# Creamos el clasificador\n",
        "clasificador = KNeighborsClassifier(n_neighbors = best_k, metric = best_metric)\n",
        "clasificador.fit(X_train, y_train)"
      ],
      "metadata": {
        "colab": {
          "base_uri": "https://localhost:8080/"
        },
        "id": "qor43yc6PygG",
        "outputId": "f168715d-263d-48f4-a755-9c352db594b8"
      },
      "execution_count": null,
      "outputs": [
        {
          "output_type": "stream",
          "name": "stdout",
          "text": [
            "[[    2     3   634     0]\n",
            " [    4     0   640     0]\n",
            " [   13    11 10605     4]\n",
            " [    1     2   581     0]]\n",
            "              precision    recall  f1-score   support\n",
            "\n",
            "      Bronze       0.10      0.00      0.01       639\n",
            "        Gold       0.00      0.00      0.00       644\n",
            "        None       0.85      1.00      0.92     10633\n",
            "      Silver       0.00      0.00      0.00       584\n",
            "\n",
            "    accuracy                           0.85     12500\n",
            "   macro avg       0.24      0.25      0.23     12500\n",
            "weighted avg       0.73      0.85      0.78     12500\n",
            "\n"
          ]
        }
      ]
    },
    {
      "cell_type": "markdown",
      "source": [
        "### Precisión del clasificador\n",
        "Con los datos tipo test realizamos una predicción para ver cuánto de bueno es nuestro clasificador.\n",
        "Mostramos la matriz de confusión y el reporte, que nos muestra cuales son los errores y aciertos.\n",
        " - Matriz de confusión: Nos muestra unicamente los datos que el clasificador etiqueta correctamente o no. Aquí vemos la explicación, de una forma más visual, con un ejemplo que tiene dos etiquetas (positivo o negativo):\n",
        "\n",
        " ![image.png](data:image/png;base64,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)\n",
        "\n",
        " - Reporte: Nos muestra varios valores los cuales evalúan nuestro clasificador comparando los datos de tipo test y los datos predichos por el modelo. Más concretamente nos muestra; precisión, nos devuelve la probabilidad de acierto, dividiendo las etiquetas acertadas entre el total de etiquetas; sensibilidad (recall), muestra la proporción de verdaderos positivos bien clasificados entre el total de verdaderos positivos; F1, proporciona una media de la precisión y el recall (aquí nos vamos a fijar para saber si es un buen modelo o no)"
      ],
      "metadata": {
        "id": "w_J_SPkC1afC"
      }
    },
    {
      "cell_type": "code",
      "source": [
        "# Vemos la precisión de nuestro clasificador con los datos de test\n",
        "pred = clasificador.predict(X_test)\n",
        "print(confusion_matrix(y_test, pred))\n",
        "print(classification_report(y_test, pred))"
      ],
      "metadata": {
        "id": "gLyHASWu1Y2V"
      },
      "execution_count": null,
      "outputs": []
    },
    {
      "cell_type": "markdown",
      "source": [
        "### Predicción/clasificación de nuevos participantes"
      ],
      "metadata": {
        "id": "Kr4_bhKct0vz"
      }
    },
    {
      "cell_type": "code",
      "source": [
        "# Clasificar nuevos individuos a través de nuestro clasificador\n",
        "print(clasificador.predict(bruno_hortelano))\n",
        "print(clasificador.predict(carolina_marin))"
      ],
      "metadata": {
        "colab": {
          "base_uri": "https://localhost:8080/"
        },
        "id": "2BIkhlziSXsn",
        "outputId": "53fa2364-a6ee-4d36-f698-123d7cb93077"
      },
      "execution_count": null,
      "outputs": [
        {
          "output_type": "stream",
          "name": "stdout",
          "text": [
            "['None']\n",
            "['None']\n"
          ]
        }
      ]
    },
    {
      "cell_type": "markdown",
      "source": [
        "# Conclusión"
      ],
      "metadata": {
        "id": "RP8rFRjgtxgR"
      }
    }
  ]
}
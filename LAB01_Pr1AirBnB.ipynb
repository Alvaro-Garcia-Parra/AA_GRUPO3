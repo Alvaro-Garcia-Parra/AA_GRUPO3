{
  "nbformat": 4,
  "nbformat_minor": 0,
  "metadata": {
    "colab": {
      "provenance": [],
      "authorship_tag": "ABX9TyOlgOCJ8pl973AT07fEPAd1",
      "include_colab_link": true
    },
    "kernelspec": {
      "name": "python3",
      "display_name": "Python 3"
    },
    "language_info": {
      "name": "python"
    }
  },
  "cells": [
    {
      "cell_type": "markdown",
      "metadata": {
        "id": "view-in-github",
        "colab_type": "text"
      },
      "source": [
        "<a href=\"https://colab.research.google.com/github/Alvaro-Garcia-Parra/AA_GRUPO3/blob/main/LAB01_Pr1AirBnB.ipynb\" target=\"_parent\"><img src=\"https://colab.research.google.com/assets/colab-badge.svg\" alt=\"Open In Colab\"/></a>"
      ]
    },
    {
      "cell_type": "markdown",
      "source": [
        "# Objetivo\n",
        "El problema del alquiler de la vivienda ya forma parte del contexto de la mayoría de grandes ciudades del mundo. Hay varios factores que se enumeran como parte del problema: el turismo masivo, la distribución de las ciudades o el auge de los apartamentos turísticos como es el caso de AirBnB. Lo que si queda claro es que los datos obtenidos del portal sirven para obtener una radiografía más o menos valida de la ciudad. A través del dataset proporcionado en Moodle en el que se miden las estancias en los últimos años en la ciudad de New York. Hay varias preguntas que nos hacemos, que contestaremos a continuación.\n",
        "\n",
        "# Resolución\n",
        "## Apartado 1\n",
        "El barrio de Williamsburg es uno de los barrios de moda hoy en día. Desde 2005 ha pasado de ser un distrito donde principalmente se encontraban fabricas a acoger una gran cantidad de gente joven y nuevos negocios. ¿Teniendo en cuenta los datos proporcionados que posición en términos de popularidad/calidad se puede decir que ostenta el barrio con respecto a los demás que forma New York? \n",
        " \n",
        "Lo primero que tendremos que hacer es cargar todo el archivo csv en un DataFrame para poder manipularlos. Habrá que comprobar si existen datos redundantes o anómalos.\n",
        "\n",
        "Para medir  la popularidad/calidad del barrio, tendremos primero  en cuenta el número de apartamentos  de calidad según los usuarios. Para ello, lo primero será clasificar los apartamentos como “Muy Malos”, “Malos”, “Regulares”, “Buenos” y “Muy Buenos”. Para ello primero haremos un par de transformaciones de los datos. La columna de reseñas por mes, se dividirán en 3 rangos iguales, después dependiendo del valor concreto que tenga cada apartamento se le asignarán las etiquetas: “Baja”, “Media” y ”Alta”. Para la columna que indica el número de días que está disponible asignaremos las etiquetas de menor valor a mayor de la siguiente manera: “Poco disponible”, “Disponible normalmente” y “Altamente disponible”. Finalmente crearemos una columna para clasificar los apartamentos, teniendo en cuenta las siguientes reglas: \n",
        "\n",
        "• Si Reseñas es Baja y Disponibilidad es “Poco disponible” -> “Bueno”\n",
        "\n",
        "• Si Reseñas es Media y Disponibilidad es “Poco disponible” -> “Bueno”\n",
        "\n",
        "• Si Reseñas es Alta y Disponibilidad es “Poco disponible” -> “Muy Bueno”\n",
        "\n",
        "• Si Reseñas es Baja y Disponibilidad es “Disponible normalmente” -> “Regular”\n",
        "\n",
        "• Si Reseñas es Media y Disponibilidad es “Disponible normalmente” -> “Regular”\n",
        "\n",
        "• Si Reseñas es Alta y Disponibilidad es “Disponible normalmente” -> “Bueno” \n",
        "\n",
        "• Si Reseñas es Baja y Disponibilidad es “Altamente disponible” -> “Malo” \n",
        "\n",
        "• Si Reseñas es Media y Disponibilidad es “Altamente disponible” -> “Malo” \n",
        "\n",
        "• Si Reseñas es alta y Disponibilidad es “Altamente disponible” -> “Muy malo” \n"
      ],
      "metadata": {
        "id": "5O-TnR4u5IxB"
      }
    },
    {
      "cell_type": "code",
      "source": [
        "import pandas as pd\n",
        "import numpy as np\n",
        "filename = 'airbnb.csv'\n",
        "data = pd.read_csv(filename, sep = ',')\n",
        "\n",
        "print(data.shape)\n",
        "data.head(10)"
      ],
      "metadata": {
        "colab": {
          "base_uri": "https://localhost:8080/",
          "height": 791
        },
        "id": "cNQ28H5p6xRE",
        "outputId": "751f48b9-e28d-4df4-b0c2-8be6d3ec516b"
      },
      "execution_count": 1,
      "outputs": [
        {
          "output_type": "stream",
          "name": "stdout",
          "text": [
            "(48895, 16)\n"
          ]
        },
        {
          "output_type": "execute_result",
          "data": {
            "text/plain": [
              "     id                                              name  host_id  \\\n",
              "0  2539                Clean & quiet apt home by the park     2787   \n",
              "1  2595                             Skylit Midtown Castle     2845   \n",
              "2  3647               THE VILLAGE OF HARLEM....NEW YORK !     4632   \n",
              "3  3831                   Cozy Entire Floor of Brownstone     4869   \n",
              "4  5022  Entire Apt: Spacious Studio/Loft by central park     7192   \n",
              "5  5099         Large Cozy 1 BR Apartment In Midtown East     7322   \n",
              "6  5121                                   BlissArtsSpace!     7356   \n",
              "7  5178                  Large Furnished Room Near B'way      8967   \n",
              "8  5203                Cozy Clean Guest Room - Family Apt     7490   \n",
              "9  5238                Cute & Cozy Lower East Side 1 bdrm     7549   \n",
              "\n",
              "     host_name neighbourhood_group       neighbourhood  latitude  longitude  \\\n",
              "0         John            Brooklyn          Kensington  40.64749  -73.97237   \n",
              "1     Jennifer           Manhattan             Midtown  40.75362  -73.98377   \n",
              "2    Elisabeth           Manhattan              Harlem  40.80902  -73.94190   \n",
              "3  LisaRoxanne            Brooklyn        Clinton Hill  40.68514  -73.95976   \n",
              "4        Laura           Manhattan         East Harlem  40.79851  -73.94399   \n",
              "5        Chris           Manhattan         Murray Hill  40.74767  -73.97500   \n",
              "6        Garon            Brooklyn  Bedford-Stuyvesant  40.68688  -73.95596   \n",
              "7     Shunichi           Manhattan      Hell's Kitchen  40.76489  -73.98493   \n",
              "8    MaryEllen           Manhattan     Upper West Side  40.80178  -73.96723   \n",
              "9          Ben           Manhattan           Chinatown  40.71344  -73.99037   \n",
              "\n",
              "         room_type  price  minimum_nights  number_of_reviews last_review  \\\n",
              "0     Private room    149               1                  9  2018-10-19   \n",
              "1  Entire home/apt    225               1                 45  2019-05-21   \n",
              "2     Private room    150               3                  0         NaN   \n",
              "3  Entire home/apt     89               1                270  2019-07-05   \n",
              "4  Entire home/apt     80              10                  9  2018-11-19   \n",
              "5  Entire home/apt    200               3                 74  2019-06-22   \n",
              "6     Private room     60              45                 49  2017-10-05   \n",
              "7     Private room     79               2                430  2019-06-24   \n",
              "8     Private room     79               2                118  2017-07-21   \n",
              "9  Entire home/apt    150               1                160  2019-06-09   \n",
              "\n",
              "   reviews_per_month  calculated_host_listings_count  availability_365  \n",
              "0               0.21                               6               365  \n",
              "1               0.38                               2               355  \n",
              "2                NaN                               1               365  \n",
              "3               4.64                               1               194  \n",
              "4               0.10                               1                 0  \n",
              "5               0.59                               1               129  \n",
              "6               0.40                               1                 0  \n",
              "7               3.47                               1               220  \n",
              "8               0.99                               1                 0  \n",
              "9               1.33                               4               188  "
            ],
            "text/html": [
              "\n",
              "  <div id=\"df-e4e5706b-ef16-4b10-95e0-617aa11bd940\">\n",
              "    <div class=\"colab-df-container\">\n",
              "      <div>\n",
              "<style scoped>\n",
              "    .dataframe tbody tr th:only-of-type {\n",
              "        vertical-align: middle;\n",
              "    }\n",
              "\n",
              "    .dataframe tbody tr th {\n",
              "        vertical-align: top;\n",
              "    }\n",
              "\n",
              "    .dataframe thead th {\n",
              "        text-align: right;\n",
              "    }\n",
              "</style>\n",
              "<table border=\"1\" class=\"dataframe\">\n",
              "  <thead>\n",
              "    <tr style=\"text-align: right;\">\n",
              "      <th></th>\n",
              "      <th>id</th>\n",
              "      <th>name</th>\n",
              "      <th>host_id</th>\n",
              "      <th>host_name</th>\n",
              "      <th>neighbourhood_group</th>\n",
              "      <th>neighbourhood</th>\n",
              "      <th>latitude</th>\n",
              "      <th>longitude</th>\n",
              "      <th>room_type</th>\n",
              "      <th>price</th>\n",
              "      <th>minimum_nights</th>\n",
              "      <th>number_of_reviews</th>\n",
              "      <th>last_review</th>\n",
              "      <th>reviews_per_month</th>\n",
              "      <th>calculated_host_listings_count</th>\n",
              "      <th>availability_365</th>\n",
              "    </tr>\n",
              "  </thead>\n",
              "  <tbody>\n",
              "    <tr>\n",
              "      <th>0</th>\n",
              "      <td>2539</td>\n",
              "      <td>Clean &amp; quiet apt home by the park</td>\n",
              "      <td>2787</td>\n",
              "      <td>John</td>\n",
              "      <td>Brooklyn</td>\n",
              "      <td>Kensington</td>\n",
              "      <td>40.64749</td>\n",
              "      <td>-73.97237</td>\n",
              "      <td>Private room</td>\n",
              "      <td>149</td>\n",
              "      <td>1</td>\n",
              "      <td>9</td>\n",
              "      <td>2018-10-19</td>\n",
              "      <td>0.21</td>\n",
              "      <td>6</td>\n",
              "      <td>365</td>\n",
              "    </tr>\n",
              "    <tr>\n",
              "      <th>1</th>\n",
              "      <td>2595</td>\n",
              "      <td>Skylit Midtown Castle</td>\n",
              "      <td>2845</td>\n",
              "      <td>Jennifer</td>\n",
              "      <td>Manhattan</td>\n",
              "      <td>Midtown</td>\n",
              "      <td>40.75362</td>\n",
              "      <td>-73.98377</td>\n",
              "      <td>Entire home/apt</td>\n",
              "      <td>225</td>\n",
              "      <td>1</td>\n",
              "      <td>45</td>\n",
              "      <td>2019-05-21</td>\n",
              "      <td>0.38</td>\n",
              "      <td>2</td>\n",
              "      <td>355</td>\n",
              "    </tr>\n",
              "    <tr>\n",
              "      <th>2</th>\n",
              "      <td>3647</td>\n",
              "      <td>THE VILLAGE OF HARLEM....NEW YORK !</td>\n",
              "      <td>4632</td>\n",
              "      <td>Elisabeth</td>\n",
              "      <td>Manhattan</td>\n",
              "      <td>Harlem</td>\n",
              "      <td>40.80902</td>\n",
              "      <td>-73.94190</td>\n",
              "      <td>Private room</td>\n",
              "      <td>150</td>\n",
              "      <td>3</td>\n",
              "      <td>0</td>\n",
              "      <td>NaN</td>\n",
              "      <td>NaN</td>\n",
              "      <td>1</td>\n",
              "      <td>365</td>\n",
              "    </tr>\n",
              "    <tr>\n",
              "      <th>3</th>\n",
              "      <td>3831</td>\n",
              "      <td>Cozy Entire Floor of Brownstone</td>\n",
              "      <td>4869</td>\n",
              "      <td>LisaRoxanne</td>\n",
              "      <td>Brooklyn</td>\n",
              "      <td>Clinton Hill</td>\n",
              "      <td>40.68514</td>\n",
              "      <td>-73.95976</td>\n",
              "      <td>Entire home/apt</td>\n",
              "      <td>89</td>\n",
              "      <td>1</td>\n",
              "      <td>270</td>\n",
              "      <td>2019-07-05</td>\n",
              "      <td>4.64</td>\n",
              "      <td>1</td>\n",
              "      <td>194</td>\n",
              "    </tr>\n",
              "    <tr>\n",
              "      <th>4</th>\n",
              "      <td>5022</td>\n",
              "      <td>Entire Apt: Spacious Studio/Loft by central park</td>\n",
              "      <td>7192</td>\n",
              "      <td>Laura</td>\n",
              "      <td>Manhattan</td>\n",
              "      <td>East Harlem</td>\n",
              "      <td>40.79851</td>\n",
              "      <td>-73.94399</td>\n",
              "      <td>Entire home/apt</td>\n",
              "      <td>80</td>\n",
              "      <td>10</td>\n",
              "      <td>9</td>\n",
              "      <td>2018-11-19</td>\n",
              "      <td>0.10</td>\n",
              "      <td>1</td>\n",
              "      <td>0</td>\n",
              "    </tr>\n",
              "    <tr>\n",
              "      <th>5</th>\n",
              "      <td>5099</td>\n",
              "      <td>Large Cozy 1 BR Apartment In Midtown East</td>\n",
              "      <td>7322</td>\n",
              "      <td>Chris</td>\n",
              "      <td>Manhattan</td>\n",
              "      <td>Murray Hill</td>\n",
              "      <td>40.74767</td>\n",
              "      <td>-73.97500</td>\n",
              "      <td>Entire home/apt</td>\n",
              "      <td>200</td>\n",
              "      <td>3</td>\n",
              "      <td>74</td>\n",
              "      <td>2019-06-22</td>\n",
              "      <td>0.59</td>\n",
              "      <td>1</td>\n",
              "      <td>129</td>\n",
              "    </tr>\n",
              "    <tr>\n",
              "      <th>6</th>\n",
              "      <td>5121</td>\n",
              "      <td>BlissArtsSpace!</td>\n",
              "      <td>7356</td>\n",
              "      <td>Garon</td>\n",
              "      <td>Brooklyn</td>\n",
              "      <td>Bedford-Stuyvesant</td>\n",
              "      <td>40.68688</td>\n",
              "      <td>-73.95596</td>\n",
              "      <td>Private room</td>\n",
              "      <td>60</td>\n",
              "      <td>45</td>\n",
              "      <td>49</td>\n",
              "      <td>2017-10-05</td>\n",
              "      <td>0.40</td>\n",
              "      <td>1</td>\n",
              "      <td>0</td>\n",
              "    </tr>\n",
              "    <tr>\n",
              "      <th>7</th>\n",
              "      <td>5178</td>\n",
              "      <td>Large Furnished Room Near B'way</td>\n",
              "      <td>8967</td>\n",
              "      <td>Shunichi</td>\n",
              "      <td>Manhattan</td>\n",
              "      <td>Hell's Kitchen</td>\n",
              "      <td>40.76489</td>\n",
              "      <td>-73.98493</td>\n",
              "      <td>Private room</td>\n",
              "      <td>79</td>\n",
              "      <td>2</td>\n",
              "      <td>430</td>\n",
              "      <td>2019-06-24</td>\n",
              "      <td>3.47</td>\n",
              "      <td>1</td>\n",
              "      <td>220</td>\n",
              "    </tr>\n",
              "    <tr>\n",
              "      <th>8</th>\n",
              "      <td>5203</td>\n",
              "      <td>Cozy Clean Guest Room - Family Apt</td>\n",
              "      <td>7490</td>\n",
              "      <td>MaryEllen</td>\n",
              "      <td>Manhattan</td>\n",
              "      <td>Upper West Side</td>\n",
              "      <td>40.80178</td>\n",
              "      <td>-73.96723</td>\n",
              "      <td>Private room</td>\n",
              "      <td>79</td>\n",
              "      <td>2</td>\n",
              "      <td>118</td>\n",
              "      <td>2017-07-21</td>\n",
              "      <td>0.99</td>\n",
              "      <td>1</td>\n",
              "      <td>0</td>\n",
              "    </tr>\n",
              "    <tr>\n",
              "      <th>9</th>\n",
              "      <td>5238</td>\n",
              "      <td>Cute &amp; Cozy Lower East Side 1 bdrm</td>\n",
              "      <td>7549</td>\n",
              "      <td>Ben</td>\n",
              "      <td>Manhattan</td>\n",
              "      <td>Chinatown</td>\n",
              "      <td>40.71344</td>\n",
              "      <td>-73.99037</td>\n",
              "      <td>Entire home/apt</td>\n",
              "      <td>150</td>\n",
              "      <td>1</td>\n",
              "      <td>160</td>\n",
              "      <td>2019-06-09</td>\n",
              "      <td>1.33</td>\n",
              "      <td>4</td>\n",
              "      <td>188</td>\n",
              "    </tr>\n",
              "  </tbody>\n",
              "</table>\n",
              "</div>\n",
              "      <button class=\"colab-df-convert\" onclick=\"convertToInteractive('df-e4e5706b-ef16-4b10-95e0-617aa11bd940')\"\n",
              "              title=\"Convert this dataframe to an interactive table.\"\n",
              "              style=\"display:none;\">\n",
              "        \n",
              "  <svg xmlns=\"http://www.w3.org/2000/svg\" height=\"24px\"viewBox=\"0 0 24 24\"\n",
              "       width=\"24px\">\n",
              "    <path d=\"M0 0h24v24H0V0z\" fill=\"none\"/>\n",
              "    <path d=\"M18.56 5.44l.94 2.06.94-2.06 2.06-.94-2.06-.94-.94-2.06-.94 2.06-2.06.94zm-11 1L8.5 8.5l.94-2.06 2.06-.94-2.06-.94L8.5 2.5l-.94 2.06-2.06.94zm10 10l.94 2.06.94-2.06 2.06-.94-2.06-.94-.94-2.06-.94 2.06-2.06.94z\"/><path d=\"M17.41 7.96l-1.37-1.37c-.4-.4-.92-.59-1.43-.59-.52 0-1.04.2-1.43.59L10.3 9.45l-7.72 7.72c-.78.78-.78 2.05 0 2.83L4 21.41c.39.39.9.59 1.41.59.51 0 1.02-.2 1.41-.59l7.78-7.78 2.81-2.81c.8-.78.8-2.07 0-2.86zM5.41 20L4 18.59l7.72-7.72 1.47 1.35L5.41 20z\"/>\n",
              "  </svg>\n",
              "      </button>\n",
              "      \n",
              "  <style>\n",
              "    .colab-df-container {\n",
              "      display:flex;\n",
              "      flex-wrap:wrap;\n",
              "      gap: 12px;\n",
              "    }\n",
              "\n",
              "    .colab-df-convert {\n",
              "      background-color: #E8F0FE;\n",
              "      border: none;\n",
              "      border-radius: 50%;\n",
              "      cursor: pointer;\n",
              "      display: none;\n",
              "      fill: #1967D2;\n",
              "      height: 32px;\n",
              "      padding: 0 0 0 0;\n",
              "      width: 32px;\n",
              "    }\n",
              "\n",
              "    .colab-df-convert:hover {\n",
              "      background-color: #E2EBFA;\n",
              "      box-shadow: 0px 1px 2px rgba(60, 64, 67, 0.3), 0px 1px 3px 1px rgba(60, 64, 67, 0.15);\n",
              "      fill: #174EA6;\n",
              "    }\n",
              "\n",
              "    [theme=dark] .colab-df-convert {\n",
              "      background-color: #3B4455;\n",
              "      fill: #D2E3FC;\n",
              "    }\n",
              "\n",
              "    [theme=dark] .colab-df-convert:hover {\n",
              "      background-color: #434B5C;\n",
              "      box-shadow: 0px 1px 3px 1px rgba(0, 0, 0, 0.15);\n",
              "      filter: drop-shadow(0px 1px 2px rgba(0, 0, 0, 0.3));\n",
              "      fill: #FFFFFF;\n",
              "    }\n",
              "  </style>\n",
              "\n",
              "      <script>\n",
              "        const buttonEl =\n",
              "          document.querySelector('#df-e4e5706b-ef16-4b10-95e0-617aa11bd940 button.colab-df-convert');\n",
              "        buttonEl.style.display =\n",
              "          google.colab.kernel.accessAllowed ? 'block' : 'none';\n",
              "\n",
              "        async function convertToInteractive(key) {\n",
              "          const element = document.querySelector('#df-e4e5706b-ef16-4b10-95e0-617aa11bd940');\n",
              "          const dataTable =\n",
              "            await google.colab.kernel.invokeFunction('convertToInteractive',\n",
              "                                                     [key], {});\n",
              "          if (!dataTable) return;\n",
              "\n",
              "          const docLinkHtml = 'Like what you see? Visit the ' +\n",
              "            '<a target=\"_blank\" href=https://colab.research.google.com/notebooks/data_table.ipynb>data table notebook</a>'\n",
              "            + ' to learn more about interactive tables.';\n",
              "          element.innerHTML = '';\n",
              "          dataTable['output_type'] = 'display_data';\n",
              "          await google.colab.output.renderOutput(dataTable, element);\n",
              "          const docLink = document.createElement('div');\n",
              "          docLink.innerHTML = docLinkHtml;\n",
              "          element.appendChild(docLink);\n",
              "        }\n",
              "      </script>\n",
              "    </div>\n",
              "  </div>\n",
              "  "
            ]
          },
          "metadata": {},
          "execution_count": 1
        }
      ]
    },
    {
      "cell_type": "code",
      "source": [
        "# Eliminar los valores duplicados\n",
        "data = data.drop_duplicates()"
      ],
      "metadata": {
        "id": "9PrY_QFgpHGc"
      },
      "execution_count": 2,
      "outputs": []
    },
    {
      "cell_type": "code",
      "source": [
        "# Decidimos que en la columna \"reviews_per_month\", las casillas que esten NaN\n",
        "# Las rellenaremos con un 0, ya que no ha habido ninguna revisión.\n",
        "data[\"reviews_per_month\"] = data[\"reviews_per_month\"].replace(np.nan,0)"
      ],
      "metadata": {
        "id": "Q2FV7bxyp-uk"
      },
      "execution_count": 3,
      "outputs": []
    },
    {
      "cell_type": "code",
      "source": [
        "# Importar librerías\n",
        "import matplotlib.pyplot as plt\n",
        "import numpy as np\n",
        " \n",
        "fig = plt.figure(figsize =(10, 7))\n",
        "\n",
        "# Crear gráfico\n",
        "plt.boxplot(data[\"reviews_per_month\"])\n",
        " \n",
        "# Dibujar gráfico\n",
        "plt.show()"
      ],
      "metadata": {
        "id": "5AGxneMmsuJO",
        "outputId": "7c00cd12-c65d-4361-afc4-47f54001b6fa",
        "colab": {
          "base_uri": "https://localhost:8080/",
          "height": 428
        }
      },
      "execution_count": 4,
      "outputs": [
        {
          "output_type": "display_data",
          "data": {
            "text/plain": [
              "<Figure size 720x504 with 1 Axes>"
            ],
            "image/png": "[encoded data removed]"
          },
          "metadata": {
            "needs_background": "light"
          }
        }
      ]
    },
    {
      "cell_type": "code",
      "source": [
        "# Eliminar los valores anómalos (Outliers)\n",
        "# Observar máximo y mínimo valor dentro del rango\n",
        "q3 = np.percentile(data[\"reviews_per_month\"],75)\n",
        "q1 = np.percentile(data[\"reviews_per_month\"],25)\n",
        "iqr = q3 - q1\n",
        "max_review = data[data[\"reviews_per_month\"]<=q3+1.5*iqr].max()[\"reviews_per_month\"]\n",
        "min_review = data[data[\"reviews_per_month\"]>=q1-1.5*iqr].min()[\"reviews_per_month\"]\n",
        "\n",
        "\n",
        "data = data.drop(data[data.reviews_per_month > 31].index)\n",
        "\n",
        "\n",
        "fig = plt.figure(figsize =(10, 7))\n",
        "\n",
        "# Crear gráfico\n",
        "plt.boxplot(data[\"reviews_per_month\"])\n",
        " \n",
        "# Dibujar gráfico\n",
        "plt.show()"
      ],
      "metadata": {
        "colab": {
          "base_uri": "https://localhost:8080/",
          "height": 517
        },
        "id": "D60kYUun9T9W",
        "outputId": "980897d9-34d5-42a8-d96b-2634adce756e"
      },
      "execution_count": 5,
      "outputs": [
        {
          "output_type": "stream",
          "name": "stderr",
          "text": [
            "<ipython-input-5-1eacbb1bafba>:6: FutureWarning: Dropping of nuisance columns in DataFrame reductions (with 'numeric_only=None') is deprecated; in a future version this will raise TypeError.  Select only valid columns before calling the reduction.\n",
            "  max_review = data[data[\"reviews_per_month\"]<=q3+1.5*iqr].max()[\"reviews_per_month\"]\n",
            "<ipython-input-5-1eacbb1bafba>:7: FutureWarning: Dropping of nuisance columns in DataFrame reductions (with 'numeric_only=None') is deprecated; in a future version this will raise TypeError.  Select only valid columns before calling the reduction.\n",
            "  min_review = data[data[\"reviews_per_month\"]>=q1-1.5*iqr].min()[\"reviews_per_month\"]\n"
          ]
        },
        {
          "output_type": "display_data",
          "data": {
            "text/plain": [
              "<Figure size 720x504 with 1 Axes>"
            ],
            "image/png": "[encoded data removed]"
          },
          "metadata": {
            "needs_background": "light"
          }
        }
      ]
    },
    {
      "cell_type": "code",
      "source": [
        "from numpy.core.function_base import linspace\n",
        "# Clasificar la columna \"reviews_per_month\" en 3 rangos iguales\n",
        "# Como el mínimo es 0 y el máximo 27.95, tomamos los siguientes rangos. \n",
        "data[\"reviews_per_month\"] = data[\"reviews_per_month\"].replace(np.around(np.linspace(0,9, 901),decimals=2),\"Baja\")\n",
        "data[\"reviews_per_month\"] = data[\"reviews_per_month\"].replace(np.around(np.linspace(9, 18, 901),decimals=2),\"Media\")\n",
        "data[\"reviews_per_month\"] = data[\"reviews_per_month\"].replace(np.around(np.linspace(18, 29, 1101),decimals=2),\"Alta\")"
      ],
      "metadata": {
        "id": "MwfoqxqNtESs"
      },
      "execution_count": 6,
      "outputs": []
    },
    {
      "cell_type": "code",
      "source": [
        "fig = plt.figure(figsize =(10, 7))\n",
        "\n",
        "# Crear gráfico\n",
        "plt.boxplot(data[\"availability_365\"])\n",
        " \n",
        "# Dibujar gráfico\n",
        "plt.show()"
      ],
      "metadata": {
        "id": "iOOEHCAku6AU",
        "outputId": "9122f120-1f71-492e-e68f-0534c0c16b32",
        "colab": {
          "base_uri": "https://localhost:8080/",
          "height": 428
        }
      },
      "execution_count": 7,
      "outputs": [
        {
          "output_type": "display_data",
          "data": {
            "text/plain": [
              "<Figure size 720x504 with 1 Axes>"
            ],
            "image/png": "[encoded data removed]"
          },
          "metadata": {
            "needs_background": "light"
          }
        }
      ]
    },
    {
      "cell_type": "code",
      "source": [
        "# Clasificar la columna \"availability_365\" en 3 rangos iguales\n",
        "# Como el mínimo es 0 y el máximo 365, tomamos los siguientes rangos.\n",
        "data[\"availability_365\"] = data[\"availability_365\"].replace(range(0,122),\"Poco disponible\")\n",
        "data[\"availability_365\"] = data[\"availability_365\"].replace(range(122,244),\"Disponible normalmente\")\n",
        "data[\"availability_365\"] = data[\"availability_365\"].replace(range(243,366),\"Altamente disponible\")"
      ],
      "metadata": {
        "id": "fwiQIliT0T8D"
      },
      "execution_count": 8,
      "outputs": []
    },
    {
      "cell_type": "code",
      "source": [
        "# Añadimos la nueva columna vacía\n",
        "data['calification'] = data.apply(lambda _: '', axis=1)\n",
        "data['calification_num'] = data.apply(lambda _: '', axis=1)"
      ],
      "metadata": {
        "id": "aSwiVIp62jba"
      },
      "execution_count": 9,
      "outputs": []
    },
    {
      "cell_type": "code",
      "source": [
        "# Estos son Buenos\n",
        "data[\"calification\"] = data[\"calification\"].mask(((data[\"reviews_per_month\"] == \"Baja\") | (data[\"reviews_per_month\"] == \"Media\")) & (data[\"availability_365\"] == \"Poco disponible\"), \"Bueno\")\n",
        "data[\"calification_num\"] = data[\"calification_num\"].mask(((data[\"reviews_per_month\"] == \"Baja\") | (data[\"reviews_per_month\"] == \"Media\")) & (data[\"availability_365\"] == \"Poco disponible\"), 4)\n",
        "\n",
        "data[\"calification\"] = data[\"calification\"].mask((data[\"reviews_per_month\"] == \"Alta\") & (data[\"availability_365\"] == \"Disponible normalmente\"), \"Bueno\")\n",
        "data[\"calification_num\"] = data[\"calification_num\"].mask((data[\"reviews_per_month\"] == \"Alta\") & (data[\"availability_365\"] == \"Disponible normalmente\"), 4)\n",
        "\n",
        "# Estos son Muy Buenos\n",
        "data[\"calification\"] = data[\"calification\"].mask((data[\"reviews_per_month\"] == \"Alta\") & (data[\"availability_365\"] == \"Poco disponible\"), \"Muy Bueno\")\n",
        "data[\"calification_num\"] = data[\"calification_num\"].mask((data[\"reviews_per_month\"] == \"Alta\") & (data[\"availability_365\"] == \"Poco disponible\"), 5)\n",
        "\n",
        "# Estos son Regulares\n",
        "data[\"calification\"] = data[\"calification\"].mask(((data[\"reviews_per_month\"] == \"Baja\") | (data[\"reviews_per_month\"] == \"Media\")) & (data[\"availability_365\"] == \"Disponible normalmente\"), \"Regular\")\n",
        "data[\"calification_num\"] = data[\"calification_num\"].mask(((data[\"reviews_per_month\"] == \"Baja\") | (data[\"reviews_per_month\"] == \"Media\")) & (data[\"availability_365\"] == \"Disponible normalmente\"), 3)\n",
        "\n",
        "# Estos son Malos\n",
        "data[\"calification\"] = data[\"calification\"].mask(((data[\"reviews_per_month\"] == \"Baja\") | (data[\"reviews_per_month\"] == \"Media\")) & (data[\"availability_365\"] == \"Altamente disponible\"), \"Malo\")\n",
        "data[\"calification_num\"] = data[\"calification_num\"].mask(((data[\"reviews_per_month\"] == \"Baja\") | (data[\"reviews_per_month\"] == \"Media\")) & (data[\"availability_365\"] == \"Altamente disponible\"), 2)\n",
        "\n",
        "# Estos son Muy Malos\n",
        "data[\"calification\"] = data[\"calification\"].mask((data[\"reviews_per_month\"] == \"Alta\") & (data[\"availability_365\"] == \"Altamente disponible\"), \"Muy malo\")\n",
        "data[\"calification_num\"] = data[\"calification_num\"].mask((data[\"reviews_per_month\"] == \"Alta\") & (data[\"availability_365\"] == \"Altamente disponible\"), 1)"
      ],
      "metadata": {
        "id": "XlEuXB5sHvTb"
      },
      "execution_count": 10,
      "outputs": []
    },
    {
      "cell_type": "markdown",
      "source": [
        "2.- (0,5 puntos) Explica visualmente como se distribuyen los 5 barrios más populares (esto serán aquellos cuyos \n",
        "apartamentos estén más solicitados en números absolutos). Para ello utiliza un diagrama de burbuja donde el \n",
        "eje de las X indica el barrio y el eje Y la calidad de los apartamentos. Usa todos los diagramas que necesites \n",
        "para llegar a esta conclusión final. "
      ],
      "metadata": {
        "id": "cfI382auNVeC"
      }
    },
    {
      "cell_type": "code",
      "source": [
        "data = data.astype({'calification_num':'int'})\n",
        "data.dtypes"
      ],
      "metadata": {
        "id": "ggFzp1QdsoQG",
        "outputId": "83d330b1-4844-4a78-89bb-24652fd59e9d",
        "colab": {
          "base_uri": "https://localhost:8080/"
        }
      },
      "execution_count": 19,
      "outputs": [
        {
          "output_type": "execute_result",
          "data": {
            "text/plain": [
              "id                                  int64\n",
              "name                               object\n",
              "host_id                             int64\n",
              "host_name                          object\n",
              "neighbourhood_group                object\n",
              "neighbourhood                      object\n",
              "latitude                          float64\n",
              "longitude                         float64\n",
              "room_type                          object\n",
              "price                               int64\n",
              "minimum_nights                      int64\n",
              "number_of_reviews                   int64\n",
              "last_review                        object\n",
              "reviews_per_month                  object\n",
              "calculated_host_listings_count      int64\n",
              "availability_365                   object\n",
              "calification                       object\n",
              "calification_num                    int64\n",
              "dtype: object"
            ]
          },
          "metadata": {},
          "execution_count": 19
        }
      ]
    },
    {
      "cell_type": "code",
      "source": [
        "df = data.groupby(by = [\"neighbourhood\"]).sum().sort_values(by = \"number_of_reviews\")[-5:]\n",
        "best5neighbourhoods = [\"Hell's Kitchen\", \"Bushwick\", \"Harlem\", \"Williamsburg\",\"Bedford-Stuyvesant\"]\n",
        "df = data.groupby(by = [\"neighbourhood\"]).mean()[\"calification_num\"]\n",
        "califications = df.loc[best5neighbourhoods]\n",
        "plt.scatter(best5neighbourhoods, califications)"
      ],
      "metadata": {
        "id": "b7U44aG-JbQv",
        "outputId": "388e83ca-3584-4436-d244-a06079e48ca5",
        "colab": {
          "base_uri": "https://localhost:8080/",
          "height": 282
        }
      },
      "execution_count": 33,
      "outputs": [
        {
          "output_type": "execute_result",
          "data": {
            "text/plain": [
              "<matplotlib.collections.PathCollection at 0x7fcb1c7da670>"
            ]
          },
          "metadata": {},
          "execution_count": 33
        },
        {
          "output_type": "display_data",
          "data": {
            "text/plain": [
              "<Figure size 432x288 with 1 Axes>"
            ],
            "image/png": "[encoded data removed]"
          },
          "metadata": {
            "needs_background": "light"
          }
        }
      ]
    }
  ]
}
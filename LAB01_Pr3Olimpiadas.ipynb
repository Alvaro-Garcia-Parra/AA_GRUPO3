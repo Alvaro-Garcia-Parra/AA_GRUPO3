{
  "nbformat": 4,
  "nbformat_minor": 0,
  "metadata": {
    "colab": {
      "provenance": [],
      "authorship_tag": "ABX9TyM+cIhIEhfo1jbuRw8x4TvO",
      "include_colab_link": true
    },
    "kernelspec": {
      "name": "python3",
      "display_name": "Python 3"
    },
    "language_info": {
      "name": "python"
    }
  },
  "cells": [
    {
      "cell_type": "markdown",
      "metadata": {
        "id": "view-in-github",
        "colab_type": "text"
      },
      "source": [
        "<a href=\"https://colab.research.google.com/github/Alvaro-Garcia-Parra/AA_GRUPO3/blob/main/LAB01_Pr3Olimpiadas.ipynb\" target=\"_parent\"><img src=\"https://colab.research.google.com/assets/colab-badge.svg\" alt=\"Open In Colab\"/></a>"
      ]
    },
    {
      "cell_type": "code",
      "execution_count": 120,
      "metadata": {
        "id": "1Oz28kq5rWOP"
      },
      "outputs": [],
      "source": [
        "# Importación de librerías a utilizar\n",
        "import mlxtend\n",
        "from mlxtend.frequent_patterns import association_rules, apriori\n",
        "from mlxtend import frequent_patterns\n",
        "import pandas as pd\n",
        "import numpy as np\n",
        "import matplotlib.pyplot as plt"
      ]
    },
    {
      "cell_type": "code",
      "source": [
        "# Lectura de la base de datos\n",
        "filename = 'olimpiadas.csv'\n",
        "data = pd.read_csv(filename, sep = ',')\n",
        "\n",
        "# Revisión de los datos\n",
        "print(data.dtypes)\n",
        "data.head(10)"
      ],
      "metadata": {
        "colab": {
          "base_uri": "https://localhost:8080/",
          "height": 641
        },
        "id": "CZxHDJIPtJMP",
        "outputId": "85063fe6-52aa-413d-c8e9-a4e117c3b72e"
      },
      "execution_count": 121,
      "outputs": [
        {
          "output_type": "stream",
          "name": "stdout",
          "text": [
            "ID          int64\n",
            "Name       object\n",
            "Sex        object\n",
            "Age       float64\n",
            "Height    float64\n",
            "Weight    float64\n",
            "Team       object\n",
            "NOC        object\n",
            "Games      object\n",
            "Year        int64\n",
            "Season     object\n",
            "City       object\n",
            "Sport      object\n",
            "Event      object\n",
            "Medal      object\n",
            "dtype: object\n"
          ]
        },
        {
          "output_type": "execute_result",
          "data": {
            "text/plain": [
              "   ID                      Name Sex   Age  Height  Weight            Team  \\\n",
              "0   1                 A Dijiang   M  24.0   180.0    80.0           China   \n",
              "1   2                  A Lamusi   M  23.0   170.0    60.0           China   \n",
              "2   3       Gunnar Nielsen Aaby   M  24.0     NaN     NaN         Denmark   \n",
              "3   4      Edgar Lindenau Aabye   M  34.0     NaN     NaN  Denmark/Sweden   \n",
              "4   5  Christine Jacoba Aaftink   F  21.0   185.0    82.0     Netherlands   \n",
              "5   5  Christine Jacoba Aaftink   F  21.0   185.0    82.0     Netherlands   \n",
              "6   5  Christine Jacoba Aaftink   F  25.0   185.0    82.0     Netherlands   \n",
              "7   5  Christine Jacoba Aaftink   F  25.0   185.0    82.0     Netherlands   \n",
              "8   5  Christine Jacoba Aaftink   F  27.0   185.0    82.0     Netherlands   \n",
              "9   5  Christine Jacoba Aaftink   F  27.0   185.0    82.0     Netherlands   \n",
              "\n",
              "   NOC        Games  Year  Season         City          Sport  \\\n",
              "0  CHN  1992 Summer  1992  Summer    Barcelona     Basketball   \n",
              "1  CHN  2012 Summer  2012  Summer       London           Judo   \n",
              "2  DEN  1920 Summer  1920  Summer    Antwerpen       Football   \n",
              "3  DEN  1900 Summer  1900  Summer        Paris     Tug-Of-War   \n",
              "4  NED  1988 Winter  1988  Winter      Calgary  Speed Skating   \n",
              "5  NED  1988 Winter  1988  Winter      Calgary  Speed Skating   \n",
              "6  NED  1992 Winter  1992  Winter  Albertville  Speed Skating   \n",
              "7  NED  1992 Winter  1992  Winter  Albertville  Speed Skating   \n",
              "8  NED  1994 Winter  1994  Winter  Lillehammer  Speed Skating   \n",
              "9  NED  1994 Winter  1994  Winter  Lillehammer  Speed Skating   \n",
              "\n",
              "                                Event Medal  \n",
              "0         Basketball Men's Basketball   NaN  \n",
              "1        Judo Men's Extra-Lightweight   NaN  \n",
              "2             Football Men's Football   NaN  \n",
              "3         Tug-Of-War Men's Tug-Of-War  Gold  \n",
              "4    Speed Skating Women's 500 metres   NaN  \n",
              "5  Speed Skating Women's 1,000 metres   NaN  \n",
              "6    Speed Skating Women's 500 metres   NaN  \n",
              "7  Speed Skating Women's 1,000 metres   NaN  \n",
              "8    Speed Skating Women's 500 metres   NaN  \n",
              "9  Speed Skating Women's 1,000 metres   NaN  "
            ],
            "text/html": [
              "\n",
              "  <div id=\"df-8e1228a6-9653-453e-ad3b-10104dece463\">\n",
              "    <div class=\"colab-df-container\">\n",
              "      <div>\n",
              "<style scoped>\n",
              "    .dataframe tbody tr th:only-of-type {\n",
              "        vertical-align: middle;\n",
              "    }\n",
              "\n",
              "    .dataframe tbody tr th {\n",
              "        vertical-align: top;\n",
              "    }\n",
              "\n",
              "    .dataframe thead th {\n",
              "        text-align: right;\n",
              "    }\n",
              "</style>\n",
              "<table border=\"1\" class=\"dataframe\">\n",
              "  <thead>\n",
              "    <tr style=\"text-align: right;\">\n",
              "      <th></th>\n",
              "      <th>ID</th>\n",
              "      <th>Name</th>\n",
              "      <th>Sex</th>\n",
              "      <th>Age</th>\n",
              "      <th>Height</th>\n",
              "      <th>Weight</th>\n",
              "      <th>Team</th>\n",
              "      <th>NOC</th>\n",
              "      <th>Games</th>\n",
              "      <th>Year</th>\n",
              "      <th>Season</th>\n",
              "      <th>City</th>\n",
              "      <th>Sport</th>\n",
              "      <th>Event</th>\n",
              "      <th>Medal</th>\n",
              "    </tr>\n",
              "  </thead>\n",
              "  <tbody>\n",
              "    <tr>\n",
              "      <th>0</th>\n",
              "      <td>1</td>\n",
              "      <td>A Dijiang</td>\n",
              "      <td>M</td>\n",
              "      <td>24.0</td>\n",
              "      <td>180.0</td>\n",
              "      <td>80.0</td>\n",
              "      <td>China</td>\n",
              "      <td>CHN</td>\n",
              "      <td>1992 Summer</td>\n",
              "      <td>1992</td>\n",
              "      <td>Summer</td>\n",
              "      <td>Barcelona</td>\n",
              "      <td>Basketball</td>\n",
              "      <td>Basketball Men's Basketball</td>\n",
              "      <td>NaN</td>\n",
              "    </tr>\n",
              "    <tr>\n",
              "      <th>1</th>\n",
              "      <td>2</td>\n",
              "      <td>A Lamusi</td>\n",
              "      <td>M</td>\n",
              "      <td>23.0</td>\n",
              "      <td>170.0</td>\n",
              "      <td>60.0</td>\n",
              "      <td>China</td>\n",
              "      <td>CHN</td>\n",
              "      <td>2012 Summer</td>\n",
              "      <td>2012</td>\n",
              "      <td>Summer</td>\n",
              "      <td>London</td>\n",
              "      <td>Judo</td>\n",
              "      <td>Judo Men's Extra-Lightweight</td>\n",
              "      <td>NaN</td>\n",
              "    </tr>\n",
              "    <tr>\n",
              "      <th>2</th>\n",
              "      <td>3</td>\n",
              "      <td>Gunnar Nielsen Aaby</td>\n",
              "      <td>M</td>\n",
              "      <td>24.0</td>\n",
              "      <td>NaN</td>\n",
              "      <td>NaN</td>\n",
              "      <td>Denmark</td>\n",
              "      <td>DEN</td>\n",
              "      <td>1920 Summer</td>\n",
              "      <td>1920</td>\n",
              "      <td>Summer</td>\n",
              "      <td>Antwerpen</td>\n",
              "      <td>Football</td>\n",
              "      <td>Football Men's Football</td>\n",
              "      <td>NaN</td>\n",
              "    </tr>\n",
              "    <tr>\n",
              "      <th>3</th>\n",
              "      <td>4</td>\n",
              "      <td>Edgar Lindenau Aabye</td>\n",
              "      <td>M</td>\n",
              "      <td>34.0</td>\n",
              "      <td>NaN</td>\n",
              "      <td>NaN</td>\n",
              "      <td>Denmark/Sweden</td>\n",
              "      <td>DEN</td>\n",
              "      <td>1900 Summer</td>\n",
              "      <td>1900</td>\n",
              "      <td>Summer</td>\n",
              "      <td>Paris</td>\n",
              "      <td>Tug-Of-War</td>\n",
              "      <td>Tug-Of-War Men's Tug-Of-War</td>\n",
              "      <td>Gold</td>\n",
              "    </tr>\n",
              "    <tr>\n",
              "      <th>4</th>\n",
              "      <td>5</td>\n",
              "      <td>Christine Jacoba Aaftink</td>\n",
              "      <td>F</td>\n",
              "      <td>21.0</td>\n",
              "      <td>185.0</td>\n",
              "      <td>82.0</td>\n",
              "      <td>Netherlands</td>\n",
              "      <td>NED</td>\n",
              "      <td>1988 Winter</td>\n",
              "      <td>1988</td>\n",
              "      <td>Winter</td>\n",
              "      <td>Calgary</td>\n",
              "      <td>Speed Skating</td>\n",
              "      <td>Speed Skating Women's 500 metres</td>\n",
              "      <td>NaN</td>\n",
              "    </tr>\n",
              "    <tr>\n",
              "      <th>5</th>\n",
              "      <td>5</td>\n",
              "      <td>Christine Jacoba Aaftink</td>\n",
              "      <td>F</td>\n",
              "      <td>21.0</td>\n",
              "      <td>185.0</td>\n",
              "      <td>82.0</td>\n",
              "      <td>Netherlands</td>\n",
              "      <td>NED</td>\n",
              "      <td>1988 Winter</td>\n",
              "      <td>1988</td>\n",
              "      <td>Winter</td>\n",
              "      <td>Calgary</td>\n",
              "      <td>Speed Skating</td>\n",
              "      <td>Speed Skating Women's 1,000 metres</td>\n",
              "      <td>NaN</td>\n",
              "    </tr>\n",
              "    <tr>\n",
              "      <th>6</th>\n",
              "      <td>5</td>\n",
              "      <td>Christine Jacoba Aaftink</td>\n",
              "      <td>F</td>\n",
              "      <td>25.0</td>\n",
              "      <td>185.0</td>\n",
              "      <td>82.0</td>\n",
              "      <td>Netherlands</td>\n",
              "      <td>NED</td>\n",
              "      <td>1992 Winter</td>\n",
              "      <td>1992</td>\n",
              "      <td>Winter</td>\n",
              "      <td>Albertville</td>\n",
              "      <td>Speed Skating</td>\n",
              "      <td>Speed Skating Women's 500 metres</td>\n",
              "      <td>NaN</td>\n",
              "    </tr>\n",
              "    <tr>\n",
              "      <th>7</th>\n",
              "      <td>5</td>\n",
              "      <td>Christine Jacoba Aaftink</td>\n",
              "      <td>F</td>\n",
              "      <td>25.0</td>\n",
              "      <td>185.0</td>\n",
              "      <td>82.0</td>\n",
              "      <td>Netherlands</td>\n",
              "      <td>NED</td>\n",
              "      <td>1992 Winter</td>\n",
              "      <td>1992</td>\n",
              "      <td>Winter</td>\n",
              "      <td>Albertville</td>\n",
              "      <td>Speed Skating</td>\n",
              "      <td>Speed Skating Women's 1,000 metres</td>\n",
              "      <td>NaN</td>\n",
              "    </tr>\n",
              "    <tr>\n",
              "      <th>8</th>\n",
              "      <td>5</td>\n",
              "      <td>Christine Jacoba Aaftink</td>\n",
              "      <td>F</td>\n",
              "      <td>27.0</td>\n",
              "      <td>185.0</td>\n",
              "      <td>82.0</td>\n",
              "      <td>Netherlands</td>\n",
              "      <td>NED</td>\n",
              "      <td>1994 Winter</td>\n",
              "      <td>1994</td>\n",
              "      <td>Winter</td>\n",
              "      <td>Lillehammer</td>\n",
              "      <td>Speed Skating</td>\n",
              "      <td>Speed Skating Women's 500 metres</td>\n",
              "      <td>NaN</td>\n",
              "    </tr>\n",
              "    <tr>\n",
              "      <th>9</th>\n",
              "      <td>5</td>\n",
              "      <td>Christine Jacoba Aaftink</td>\n",
              "      <td>F</td>\n",
              "      <td>27.0</td>\n",
              "      <td>185.0</td>\n",
              "      <td>82.0</td>\n",
              "      <td>Netherlands</td>\n",
              "      <td>NED</td>\n",
              "      <td>1994 Winter</td>\n",
              "      <td>1994</td>\n",
              "      <td>Winter</td>\n",
              "      <td>Lillehammer</td>\n",
              "      <td>Speed Skating</td>\n",
              "      <td>Speed Skating Women's 1,000 metres</td>\n",
              "      <td>NaN</td>\n",
              "    </tr>\n",
              "  </tbody>\n",
              "</table>\n",
              "</div>\n",
              "      <button class=\"colab-df-convert\" onclick=\"convertToInteractive('df-8e1228a6-9653-453e-ad3b-10104dece463')\"\n",
              "              title=\"Convert this dataframe to an interactive table.\"\n",
              "              style=\"display:none;\">\n",
              "        \n",
              "  <svg xmlns=\"http://www.w3.org/2000/svg\" height=\"24px\"viewBox=\"0 0 24 24\"\n",
              "       width=\"24px\">\n",
              "    <path d=\"M0 0h24v24H0V0z\" fill=\"none\"/>\n",
              "    <path d=\"M18.56 5.44l.94 2.06.94-2.06 2.06-.94-2.06-.94-.94-2.06-.94 2.06-2.06.94zm-11 1L8.5 8.5l.94-2.06 2.06-.94-2.06-.94L8.5 2.5l-.94 2.06-2.06.94zm10 10l.94 2.06.94-2.06 2.06-.94-2.06-.94-.94-2.06-.94 2.06-2.06.94z\"/><path d=\"M17.41 7.96l-1.37-1.37c-.4-.4-.92-.59-1.43-.59-.52 0-1.04.2-1.43.59L10.3 9.45l-7.72 7.72c-.78.78-.78 2.05 0 2.83L4 21.41c.39.39.9.59 1.41.59.51 0 1.02-.2 1.41-.59l7.78-7.78 2.81-2.81c.8-.78.8-2.07 0-2.86zM5.41 20L4 18.59l7.72-7.72 1.47 1.35L5.41 20z\"/>\n",
              "  </svg>\n",
              "      </button>\n",
              "      \n",
              "  <style>\n",
              "    .colab-df-container {\n",
              "      display:flex;\n",
              "      flex-wrap:wrap;\n",
              "      gap: 12px;\n",
              "    }\n",
              "\n",
              "    .colab-df-convert {\n",
              "      background-color: #E8F0FE;\n",
              "      border: none;\n",
              "      border-radius: 50%;\n",
              "      cursor: pointer;\n",
              "      display: none;\n",
              "      fill: #1967D2;\n",
              "      height: 32px;\n",
              "      padding: 0 0 0 0;\n",
              "      width: 32px;\n",
              "    }\n",
              "\n",
              "    .colab-df-convert:hover {\n",
              "      background-color: #E2EBFA;\n",
              "      box-shadow: 0px 1px 2px rgba(60, 64, 67, 0.3), 0px 1px 3px 1px rgba(60, 64, 67, 0.15);\n",
              "      fill: #174EA6;\n",
              "    }\n",
              "\n",
              "    [theme=dark] .colab-df-convert {\n",
              "      background-color: #3B4455;\n",
              "      fill: #D2E3FC;\n",
              "    }\n",
              "\n",
              "    [theme=dark] .colab-df-convert:hover {\n",
              "      background-color: #434B5C;\n",
              "      box-shadow: 0px 1px 3px 1px rgba(0, 0, 0, 0.15);\n",
              "      filter: drop-shadow(0px 1px 2px rgba(0, 0, 0, 0.3));\n",
              "      fill: #FFFFFF;\n",
              "    }\n",
              "  </style>\n",
              "\n",
              "      <script>\n",
              "        const buttonEl =\n",
              "          document.querySelector('#df-8e1228a6-9653-453e-ad3b-10104dece463 button.colab-df-convert');\n",
              "        buttonEl.style.display =\n",
              "          google.colab.kernel.accessAllowed ? 'block' : 'none';\n",
              "\n",
              "        async function convertToInteractive(key) {\n",
              "          const element = document.querySelector('#df-8e1228a6-9653-453e-ad3b-10104dece463');\n",
              "          const dataTable =\n",
              "            await google.colab.kernel.invokeFunction('convertToInteractive',\n",
              "                                                     [key], {});\n",
              "          if (!dataTable) return;\n",
              "\n",
              "          const docLinkHtml = 'Like what you see? Visit the ' +\n",
              "            '<a target=\"_blank\" href=https://colab.research.google.com/notebooks/data_table.ipynb>data table notebook</a>'\n",
              "            + ' to learn more about interactive tables.';\n",
              "          element.innerHTML = '';\n",
              "          dataTable['output_type'] = 'display_data';\n",
              "          await google.colab.output.renderOutput(dataTable, element);\n",
              "          const docLink = document.createElement('div');\n",
              "          docLink.innerHTML = docLinkHtml;\n",
              "          element.appendChild(docLink);\n",
              "        }\n",
              "      </script>\n",
              "    </div>\n",
              "  </div>\n",
              "  "
            ]
          },
          "metadata": {},
          "execution_count": 121
        }
      ]
    },
    {
      "cell_type": "code",
      "source": [
        "# Creamos el nuevo dataset con las variables necesarias\n",
        "data = data[['Name','Sex','Age','Height','Weight','NOC','Games','Event','Medal']]\n",
        "data"
      ],
      "metadata": {
        "colab": {
          "base_uri": "https://localhost:8080/",
          "height": 424
        },
        "id": "Bm_GCIZZtYLz",
        "outputId": "06dea537-fc50-43e7-e076-9d61b5920fe6"
      },
      "execution_count": 122,
      "outputs": [
        {
          "output_type": "execute_result",
          "data": {
            "text/plain": [
              "                            Name Sex   Age  Height  Weight  NOC        Games  \\\n",
              "0                      A Dijiang   M  24.0   180.0    80.0  CHN  1992 Summer   \n",
              "1                       A Lamusi   M  23.0   170.0    60.0  CHN  2012 Summer   \n",
              "2            Gunnar Nielsen Aaby   M  24.0     NaN     NaN  DEN  1920 Summer   \n",
              "3           Edgar Lindenau Aabye   M  34.0     NaN     NaN  DEN  1900 Summer   \n",
              "4       Christine Jacoba Aaftink   F  21.0   185.0    82.0  NED  1988 Winter   \n",
              "...                          ...  ..   ...     ...     ...  ...          ...   \n",
              "271111                Andrzej ya   M  29.0   179.0    89.0  POL  1976 Winter   \n",
              "271112                  Piotr ya   M  27.0   176.0    59.0  POL  2014 Winter   \n",
              "271113                  Piotr ya   M  27.0   176.0    59.0  POL  2014 Winter   \n",
              "271114        Tomasz Ireneusz ya   M  30.0   185.0    96.0  POL  1998 Winter   \n",
              "271115        Tomasz Ireneusz ya   M  34.0   185.0    96.0  POL  2002 Winter   \n",
              "\n",
              "                                           Event Medal  \n",
              "0                    Basketball Men's Basketball   NaN  \n",
              "1                   Judo Men's Extra-Lightweight   NaN  \n",
              "2                        Football Men's Football   NaN  \n",
              "3                    Tug-Of-War Men's Tug-Of-War  Gold  \n",
              "4               Speed Skating Women's 500 metres   NaN  \n",
              "...                                          ...   ...  \n",
              "271111                Luge Mixed (Men)'s Doubles   NaN  \n",
              "271112  Ski Jumping Men's Large Hill, Individual   NaN  \n",
              "271113        Ski Jumping Men's Large Hill, Team   NaN  \n",
              "271114                      Bobsleigh Men's Four   NaN  \n",
              "271115                      Bobsleigh Men's Four   NaN  \n",
              "\n",
              "[271116 rows x 9 columns]"
            ],
            "text/html": [
              "\n",
              "  <div id=\"df-651442ca-1e88-4c18-abbb-ed5d73a87b67\">\n",
              "    <div class=\"colab-df-container\">\n",
              "      <div>\n",
              "<style scoped>\n",
              "    .dataframe tbody tr th:only-of-type {\n",
              "        vertical-align: middle;\n",
              "    }\n",
              "\n",
              "    .dataframe tbody tr th {\n",
              "        vertical-align: top;\n",
              "    }\n",
              "\n",
              "    .dataframe thead th {\n",
              "        text-align: right;\n",
              "    }\n",
              "</style>\n",
              "<table border=\"1\" class=\"dataframe\">\n",
              "  <thead>\n",
              "    <tr style=\"text-align: right;\">\n",
              "      <th></th>\n",
              "      <th>Name</th>\n",
              "      <th>Sex</th>\n",
              "      <th>Age</th>\n",
              "      <th>Height</th>\n",
              "      <th>Weight</th>\n",
              "      <th>NOC</th>\n",
              "      <th>Games</th>\n",
              "      <th>Event</th>\n",
              "      <th>Medal</th>\n",
              "    </tr>\n",
              "  </thead>\n",
              "  <tbody>\n",
              "    <tr>\n",
              "      <th>0</th>\n",
              "      <td>A Dijiang</td>\n",
              "      <td>M</td>\n",
              "      <td>24.0</td>\n",
              "      <td>180.0</td>\n",
              "      <td>80.0</td>\n",
              "      <td>CHN</td>\n",
              "      <td>1992 Summer</td>\n",
              "      <td>Basketball Men's Basketball</td>\n",
              "      <td>NaN</td>\n",
              "    </tr>\n",
              "    <tr>\n",
              "      <th>1</th>\n",
              "      <td>A Lamusi</td>\n",
              "      <td>M</td>\n",
              "      <td>23.0</td>\n",
              "      <td>170.0</td>\n",
              "      <td>60.0</td>\n",
              "      <td>CHN</td>\n",
              "      <td>2012 Summer</td>\n",
              "      <td>Judo Men's Extra-Lightweight</td>\n",
              "      <td>NaN</td>\n",
              "    </tr>\n",
              "    <tr>\n",
              "      <th>2</th>\n",
              "      <td>Gunnar Nielsen Aaby</td>\n",
              "      <td>M</td>\n",
              "      <td>24.0</td>\n",
              "      <td>NaN</td>\n",
              "      <td>NaN</td>\n",
              "      <td>DEN</td>\n",
              "      <td>1920 Summer</td>\n",
              "      <td>Football Men's Football</td>\n",
              "      <td>NaN</td>\n",
              "    </tr>\n",
              "    <tr>\n",
              "      <th>3</th>\n",
              "      <td>Edgar Lindenau Aabye</td>\n",
              "      <td>M</td>\n",
              "      <td>34.0</td>\n",
              "      <td>NaN</td>\n",
              "      <td>NaN</td>\n",
              "      <td>DEN</td>\n",
              "      <td>1900 Summer</td>\n",
              "      <td>Tug-Of-War Men's Tug-Of-War</td>\n",
              "      <td>Gold</td>\n",
              "    </tr>\n",
              "    <tr>\n",
              "      <th>4</th>\n",
              "      <td>Christine Jacoba Aaftink</td>\n",
              "      <td>F</td>\n",
              "      <td>21.0</td>\n",
              "      <td>185.0</td>\n",
              "      <td>82.0</td>\n",
              "      <td>NED</td>\n",
              "      <td>1988 Winter</td>\n",
              "      <td>Speed Skating Women's 500 metres</td>\n",
              "      <td>NaN</td>\n",
              "    </tr>\n",
              "    <tr>\n",
              "      <th>...</th>\n",
              "      <td>...</td>\n",
              "      <td>...</td>\n",
              "      <td>...</td>\n",
              "      <td>...</td>\n",
              "      <td>...</td>\n",
              "      <td>...</td>\n",
              "      <td>...</td>\n",
              "      <td>...</td>\n",
              "      <td>...</td>\n",
              "    </tr>\n",
              "    <tr>\n",
              "      <th>271111</th>\n",
              "      <td>Andrzej ya</td>\n",
              "      <td>M</td>\n",
              "      <td>29.0</td>\n",
              "      <td>179.0</td>\n",
              "      <td>89.0</td>\n",
              "      <td>POL</td>\n",
              "      <td>1976 Winter</td>\n",
              "      <td>Luge Mixed (Men)'s Doubles</td>\n",
              "      <td>NaN</td>\n",
              "    </tr>\n",
              "    <tr>\n",
              "      <th>271112</th>\n",
              "      <td>Piotr ya</td>\n",
              "      <td>M</td>\n",
              "      <td>27.0</td>\n",
              "      <td>176.0</td>\n",
              "      <td>59.0</td>\n",
              "      <td>POL</td>\n",
              "      <td>2014 Winter</td>\n",
              "      <td>Ski Jumping Men's Large Hill, Individual</td>\n",
              "      <td>NaN</td>\n",
              "    </tr>\n",
              "    <tr>\n",
              "      <th>271113</th>\n",
              "      <td>Piotr ya</td>\n",
              "      <td>M</td>\n",
              "      <td>27.0</td>\n",
              "      <td>176.0</td>\n",
              "      <td>59.0</td>\n",
              "      <td>POL</td>\n",
              "      <td>2014 Winter</td>\n",
              "      <td>Ski Jumping Men's Large Hill, Team</td>\n",
              "      <td>NaN</td>\n",
              "    </tr>\n",
              "    <tr>\n",
              "      <th>271114</th>\n",
              "      <td>Tomasz Ireneusz ya</td>\n",
              "      <td>M</td>\n",
              "      <td>30.0</td>\n",
              "      <td>185.0</td>\n",
              "      <td>96.0</td>\n",
              "      <td>POL</td>\n",
              "      <td>1998 Winter</td>\n",
              "      <td>Bobsleigh Men's Four</td>\n",
              "      <td>NaN</td>\n",
              "    </tr>\n",
              "    <tr>\n",
              "      <th>271115</th>\n",
              "      <td>Tomasz Ireneusz ya</td>\n",
              "      <td>M</td>\n",
              "      <td>34.0</td>\n",
              "      <td>185.0</td>\n",
              "      <td>96.0</td>\n",
              "      <td>POL</td>\n",
              "      <td>2002 Winter</td>\n",
              "      <td>Bobsleigh Men's Four</td>\n",
              "      <td>NaN</td>\n",
              "    </tr>\n",
              "  </tbody>\n",
              "</table>\n",
              "<p>271116 rows × 9 columns</p>\n",
              "</div>\n",
              "      <button class=\"colab-df-convert\" onclick=\"convertToInteractive('df-651442ca-1e88-4c18-abbb-ed5d73a87b67')\"\n",
              "              title=\"Convert this dataframe to an interactive table.\"\n",
              "              style=\"display:none;\">\n",
              "        \n",
              "  <svg xmlns=\"http://www.w3.org/2000/svg\" height=\"24px\"viewBox=\"0 0 24 24\"\n",
              "       width=\"24px\">\n",
              "    <path d=\"M0 0h24v24H0V0z\" fill=\"none\"/>\n",
              "    <path d=\"M18.56 5.44l.94 2.06.94-2.06 2.06-.94-2.06-.94-.94-2.06-.94 2.06-2.06.94zm-11 1L8.5 8.5l.94-2.06 2.06-.94-2.06-.94L8.5 2.5l-.94 2.06-2.06.94zm10 10l.94 2.06.94-2.06 2.06-.94-2.06-.94-.94-2.06-.94 2.06-2.06.94z\"/><path d=\"M17.41 7.96l-1.37-1.37c-.4-.4-.92-.59-1.43-.59-.52 0-1.04.2-1.43.59L10.3 9.45l-7.72 7.72c-.78.78-.78 2.05 0 2.83L4 21.41c.39.39.9.59 1.41.59.51 0 1.02-.2 1.41-.59l7.78-7.78 2.81-2.81c.8-.78.8-2.07 0-2.86zM5.41 20L4 18.59l7.72-7.72 1.47 1.35L5.41 20z\"/>\n",
              "  </svg>\n",
              "      </button>\n",
              "      \n",
              "  <style>\n",
              "    .colab-df-container {\n",
              "      display:flex;\n",
              "      flex-wrap:wrap;\n",
              "      gap: 12px;\n",
              "    }\n",
              "\n",
              "    .colab-df-convert {\n",
              "      background-color: #E8F0FE;\n",
              "      border: none;\n",
              "      border-radius: 50%;\n",
              "      cursor: pointer;\n",
              "      display: none;\n",
              "      fill: #1967D2;\n",
              "      height: 32px;\n",
              "      padding: 0 0 0 0;\n",
              "      width: 32px;\n",
              "    }\n",
              "\n",
              "    .colab-df-convert:hover {\n",
              "      background-color: #E2EBFA;\n",
              "      box-shadow: 0px 1px 2px rgba(60, 64, 67, 0.3), 0px 1px 3px 1px rgba(60, 64, 67, 0.15);\n",
              "      fill: #174EA6;\n",
              "    }\n",
              "\n",
              "    [theme=dark] .colab-df-convert {\n",
              "      background-color: #3B4455;\n",
              "      fill: #D2E3FC;\n",
              "    }\n",
              "\n",
              "    [theme=dark] .colab-df-convert:hover {\n",
              "      background-color: #434B5C;\n",
              "      box-shadow: 0px 1px 3px 1px rgba(0, 0, 0, 0.15);\n",
              "      filter: drop-shadow(0px 1px 2px rgba(0, 0, 0, 0.3));\n",
              "      fill: #FFFFFF;\n",
              "    }\n",
              "  </style>\n",
              "\n",
              "      <script>\n",
              "        const buttonEl =\n",
              "          document.querySelector('#df-651442ca-1e88-4c18-abbb-ed5d73a87b67 button.colab-df-convert');\n",
              "        buttonEl.style.display =\n",
              "          google.colab.kernel.accessAllowed ? 'block' : 'none';\n",
              "\n",
              "        async function convertToInteractive(key) {\n",
              "          const element = document.querySelector('#df-651442ca-1e88-4c18-abbb-ed5d73a87b67');\n",
              "          const dataTable =\n",
              "            await google.colab.kernel.invokeFunction('convertToInteractive',\n",
              "                                                     [key], {});\n",
              "          if (!dataTable) return;\n",
              "\n",
              "          const docLinkHtml = 'Like what you see? Visit the ' +\n",
              "            '<a target=\"_blank\" href=https://colab.research.google.com/notebooks/data_table.ipynb>data table notebook</a>'\n",
              "            + ' to learn more about interactive tables.';\n",
              "          element.innerHTML = '';\n",
              "          dataTable['output_type'] = 'display_data';\n",
              "          await google.colab.output.renderOutput(dataTable, element);\n",
              "          const docLink = document.createElement('div');\n",
              "          docLink.innerHTML = docLinkHtml;\n",
              "          element.appendChild(docLink);\n",
              "        }\n",
              "      </script>\n",
              "    </div>\n",
              "  </div>\n",
              "  "
            ]
          },
          "metadata": {},
          "execution_count": 122
        }
      ]
    },
    {
      "cell_type": "code",
      "source": [
        "data.info(verbose=True, null_counts=True)"
      ],
      "metadata": {
        "colab": {
          "base_uri": "https://localhost:8080/"
        },
        "id": "kpB6qN30z5ld",
        "outputId": "bef51153-a3e8-4e47-d01f-d4461dc7de8d"
      },
      "execution_count": 123,
      "outputs": [
        {
          "output_type": "stream",
          "name": "stderr",
          "text": [
            "<ipython-input-123-c1a516913eb1>:1: FutureWarning: null_counts is deprecated. Use show_counts instead\n",
            "  data.info(verbose=True, null_counts=True)\n"
          ]
        },
        {
          "output_type": "stream",
          "name": "stdout",
          "text": [
            "<class 'pandas.core.frame.DataFrame'>\n",
            "RangeIndex: 271116 entries, 0 to 271115\n",
            "Data columns (total 9 columns):\n",
            " #   Column  Non-Null Count   Dtype  \n",
            "---  ------  --------------   -----  \n",
            " 0   Name    271116 non-null  object \n",
            " 1   Sex     271116 non-null  object \n",
            " 2   Age     261642 non-null  float64\n",
            " 3   Height  210945 non-null  float64\n",
            " 4   Weight  208241 non-null  float64\n",
            " 5   NOC     271116 non-null  object \n",
            " 6   Games   271116 non-null  object \n",
            " 7   Event   271116 non-null  object \n",
            " 8   Medal   39783 non-null   object \n",
            "dtypes: float64(3), object(6)\n",
            "memory usage: 18.6+ MB\n"
          ]
        }
      ]
    },
    {
      "cell_type": "code",
      "source": [
        "data['Age'].fillna(round(data['Age'].mean()), inplace = True)\n",
        "data['Height'].fillna(round(data['Height'].mean()), inplace = True)\n",
        "data['Weight'].fillna(round(data['Weight'].mean()), inplace = True)\n",
        "data['Medal'].fillna('No medal', inplace = True)"
      ],
      "metadata": {
        "id": "5FziDzPe3nCr"
      },
      "execution_count": 124,
      "outputs": []
    },
    {
      "cell_type": "code",
      "source": [
        "# Vemos los outliers\n",
        "\n",
        "fig = plt.figure(figsize =(10, 7))\n",
        "\n",
        "# Crear gráfico\n",
        "ax = fig.add_subplot(111)\n",
        "ax.boxplot(data[\"Age\"], showfliers=False)\n",
        "ax.set_title('Age')\n",
        "\n",
        "# Dibujar gráfico\n",
        "plt.show()"
      ],
      "metadata": {
        "colab": {
          "base_uri": "https://localhost:8080/",
          "height": 444
        },
        "id": "P-TUeomK6SUI",
        "outputId": "9771ee9e-e860-4f1b-cfa9-79d8c6ca4ae7"
      },
      "execution_count": 125,
      "outputs": [
        {
          "output_type": "display_data",
          "data": {
            "text/plain": [
              "<Figure size 720x504 with 1 Axes>"
            ],
            "image/png": "[encoded data removed]"
          },
          "metadata": {
            "needs_background": "light"
          }
        }
      ]
    },
    {
      "cell_type": "code",
      "source": [
        "# Vemos los outliers\n",
        "\n",
        "fig = plt.figure(figsize =(10, 7))\n",
        "\n",
        "# Crear gráfico\n",
        "ax = fig.add_subplot(111)\n",
        "ax.boxplot(data[\"Age\"])\n",
        "ax.set_title('Age')\n",
        "\n",
        "# Dibujar gráfico\n",
        "plt.show()"
      ],
      "metadata": {
        "colab": {
          "base_uri": "https://localhost:8080/",
          "height": 444
        },
        "id": "iBf7SQOo7wIf",
        "outputId": "15e2f242-c6cc-4174-f3d6-39e08afbe8c2"
      },
      "execution_count": 126,
      "outputs": [
        {
          "output_type": "display_data",
          "data": {
            "text/plain": [
              "<Figure size 720x504 with 1 Axes>"
            ],
            "image/png": "[encoded data removed]"
          },
          "metadata": {
            "needs_background": "light"
          }
        }
      ]
    },
    {
      "cell_type": "code",
      "source": [
        "# Vemos los outliers\n",
        "\n",
        "fig = plt.figure(figsize =(10, 7))\n",
        "\n",
        "# Crear gráfico\n",
        "ax = fig.add_subplot(111)\n",
        "ax.boxplot(data[\"Height\"], showfliers=False)\n",
        "ax.set_title('Height')\n",
        "\n",
        "# Dibujar gráfico\n",
        "plt.show()"
      ],
      "metadata": {
        "colab": {
          "base_uri": "https://localhost:8080/",
          "height": 444
        },
        "id": "cFHXnCAq797l",
        "outputId": "a4a73e29-8c56-4b60-b1ee-d0ea031eb966"
      },
      "execution_count": 127,
      "outputs": [
        {
          "output_type": "display_data",
          "data": {
            "text/plain": [
              "<Figure size 720x504 with 1 Axes>"
            ],
            "image/png": "[encoded data removed]"
          },
          "metadata": {
            "needs_background": "light"
          }
        }
      ]
    },
    {
      "cell_type": "code",
      "source": [
        "# Vemos los outliers\n",
        "\n",
        "fig = plt.figure(figsize =(10, 7))\n",
        "\n",
        "# Crear gráfico\n",
        "ax = fig.add_subplot(111)\n",
        "ax.boxplot(data[\"Height\"])\n",
        "ax.set_title('Height')\n",
        "\n",
        "# Dibujar gráfico\n",
        "plt.show()"
      ],
      "metadata": {
        "colab": {
          "base_uri": "https://localhost:8080/",
          "height": 444
        },
        "id": "utRXYWAQ8Geq",
        "outputId": "8c9b13ca-6b26-40ce-96f9-86535d85e5d6"
      },
      "execution_count": 128,
      "outputs": [
        {
          "output_type": "display_data",
          "data": {
            "text/plain": [
              "<Figure size 720x504 with 1 Axes>"
            ],
            "image/png": "[encoded data removed]"
          },
          "metadata": {
            "needs_background": "light"
          }
        }
      ]
    },
    {
      "cell_type": "code",
      "source": [
        "# Vemos los outliers\n",
        "\n",
        "fig = plt.figure(figsize =(10, 7))\n",
        "\n",
        "# Crear gráfico\n",
        "ax = fig.add_subplot(111)\n",
        "ax.boxplot(data[\"Weight\"], showfliers=False)\n",
        "ax.set_title('Weight')\n",
        "\n",
        "# Dibujar gráfico\n",
        "plt.show()"
      ],
      "metadata": {
        "colab": {
          "base_uri": "https://localhost:8080/",
          "height": 444
        },
        "id": "fBi2v_CE8KW_",
        "outputId": "72d313a0-307d-4d38-de13-b644b4f7f646"
      },
      "execution_count": 129,
      "outputs": [
        {
          "output_type": "display_data",
          "data": {
            "text/plain": [
              "<Figure size 720x504 with 1 Axes>"
            ],
            "image/png": "[encoded data removed]"
          },
          "metadata": {
            "needs_background": "light"
          }
        }
      ]
    },
    {
      "cell_type": "code",
      "source": [
        "# Vemos los outliers\n",
        "\n",
        "fig = plt.figure(figsize =(10, 7))\n",
        "\n",
        "# Crear gráfico\n",
        "ax = fig.add_subplot(111)\n",
        "ax.boxplot(data[\"Weight\"])\n",
        "ax.set_title('Weight')\n",
        "\n",
        "# Dibujar gráfico\n",
        "plt.show()"
      ],
      "metadata": {
        "colab": {
          "base_uri": "https://localhost:8080/",
          "height": 444
        },
        "id": "VASr9heC8MYe",
        "outputId": "c6451c5c-f4b0-4be4-fb57-efede5dec9b5"
      },
      "execution_count": 130,
      "outputs": [
        {
          "output_type": "display_data",
          "data": {
            "text/plain": [
              "<Figure size 720x504 with 1 Axes>"
            ],
            "image/png": "[encoded data removed]"
          },
          "metadata": {
            "needs_background": "light"
          }
        }
      ]
    },
    {
      "cell_type": "code",
      "source": [
        "from math import floor\n",
        "from math import ceil\n",
        "\n",
        "\n",
        "# Edad\n",
        "max = ceil(data.max()['Age'])\n",
        "min = floor(data.min()['Age'])\n",
        "rango = ceil((max - min)/3)\n",
        "\n",
        "# Primer rango: Poco disponible\n",
        "data.loc[(data['Age'] < min + rango), 'Age'] = 'Joven'\n",
        "\n",
        "# Segundo rango: Disponible normalmente\n",
        "data.loc[(data['Age'] >= min + rango) & (data['Age'] < min + rango*2), 'Age'] = 'Edad Media'\n",
        "\n",
        "# Primer rango: Altamente disponible\n",
        "data.loc[(data['Age'] >= min + rango*2), 'Age'] = 'Mayor'\n",
        "\n",
        "# Height\n",
        "max = ceil(data.max()['Height'])\n",
        "min = floor(data.min()['Height'])\n",
        "rango = ceil((max - min)/3)\n",
        "\n",
        "# Primer rango: Poco disponible\n",
        "data.loc[(data['Height'] < min + rango), 'Height'] = 'Bajo'\n",
        "\n",
        "# Segundo rango: Disponible normalmente\n",
        "data.loc[(data['Height'] >= min + rango) & (data['Height'] < min + rango*2), 'Height'] = 'Medio'\n",
        "\n",
        "# Primer rango: Altamente disponible\n",
        "data.loc[(data['Height'] >= min + rango*2), 'Height'] = 'Alto'\n",
        "\n",
        "# Weight\n",
        "max = ceil(data.max()['Weight'])\n",
        "min = floor(data.min()['Weight'])\n",
        "rango = ceil((max - min)/3)\n",
        "\n",
        "# Primer rango: Poco disponible\n",
        "data.loc[(data['Weight'] < min + rango), 'Weight'] = 'Delgado'\n",
        "\n",
        "# Segundo rango: Disponible normalmente\n",
        "data.loc[(data['Weight'] >= min + rango) & (data['Weight'] < min + rango*2), 'Weight'] = 'En forma'\n",
        "\n",
        "# Primer rango: Altamente disponible\n",
        "data.loc[(data['Weight'] >= min + rango*2), 'Weight'] = 'Pesado'"
      ],
      "metadata": {
        "colab": {
          "base_uri": "https://localhost:8080/",
          "height": 556
        },
        "id": "nP_GGDQ49EEm",
        "outputId": "032e9236-6ca7-4473-ddd7-9255d7eb3380"
      },
      "execution_count": 132,
      "outputs": [
        {
          "output_type": "stream",
          "name": "stderr",
          "text": [
            "<ipython-input-132-8a282102233e>:6: FutureWarning: Dropping of nuisance columns in DataFrame reductions (with 'numeric_only=None') is deprecated; in a future version this will raise TypeError.  Select only valid columns before calling the reduction.\n",
            "  max = ceil(data.max()['Age'])\n"
          ]
        },
        {
          "output_type": "error",
          "ename": "KeyError",
          "evalue": "ignored",
          "traceback": [
            "\u001b[0;31m---------------------------------------------------------------------------\u001b[0m",
            "\u001b[0;31mKeyError\u001b[0m                                  Traceback (most recent call last)",
            "\u001b[0;32m/usr/local/lib/python3.9/dist-packages/pandas/core/indexes/base.py\u001b[0m in \u001b[0;36mget_loc\u001b[0;34m(self, key, method, tolerance)\u001b[0m\n\u001b[1;32m   3628\u001b[0m             \u001b[0;32mtry\u001b[0m\u001b[0;34m:\u001b[0m\u001b[0;34m\u001b[0m\u001b[0;34m\u001b[0m\u001b[0m\n\u001b[0;32m-> 3629\u001b[0;31m                 \u001b[0;32mreturn\u001b[0m \u001b[0mself\u001b[0m\u001b[0;34m.\u001b[0m\u001b[0m_engine\u001b[0m\u001b[0;34m.\u001b[0m\u001b[0mget_loc\u001b[0m\u001b[0;34m(\u001b[0m\u001b[0mcasted_key\u001b[0m\u001b[0;34m)\u001b[0m\u001b[0;34m\u001b[0m\u001b[0;34m\u001b[0m\u001b[0m\n\u001b[0m\u001b[1;32m   3630\u001b[0m             \u001b[0;32mexcept\u001b[0m \u001b[0mKeyError\u001b[0m \u001b[0;32mas\u001b[0m \u001b[0merr\u001b[0m\u001b[0;34m:\u001b[0m\u001b[0;34m\u001b[0m\u001b[0;34m\u001b[0m\u001b[0m\n",
            "\u001b[0;32m/usr/local/lib/python3.9/dist-packages/pandas/_libs/index.pyx\u001b[0m in \u001b[0;36mpandas._libs.index.IndexEngine.get_loc\u001b[0;34m()\u001b[0m\n",
            "\u001b[0;32m/usr/local/lib/python3.9/dist-packages/pandas/_libs/index.pyx\u001b[0m in \u001b[0;36mpandas._libs.index.IndexEngine.get_loc\u001b[0;34m()\u001b[0m\n",
            "\u001b[0;32mpandas/_libs/hashtable_class_helper.pxi\u001b[0m in \u001b[0;36mpandas._libs.hashtable.PyObjectHashTable.get_item\u001b[0;34m()\u001b[0m\n",
            "\u001b[0;32mpandas/_libs/hashtable_class_helper.pxi\u001b[0m in \u001b[0;36mpandas._libs.hashtable.PyObjectHashTable.get_item\u001b[0;34m()\u001b[0m\n",
            "\u001b[0;31mKeyError\u001b[0m: 'Age'",
            "\nThe above exception was the direct cause of the following exception:\n",
            "\u001b[0;31mKeyError\u001b[0m                                  Traceback (most recent call last)",
            "\u001b[0;32m<ipython-input-132-8a282102233e>\u001b[0m in \u001b[0;36m<module>\u001b[0;34m\u001b[0m\n\u001b[1;32m      4\u001b[0m \u001b[0;34m\u001b[0m\u001b[0m\n\u001b[1;32m      5\u001b[0m \u001b[0;31m# Edad\u001b[0m\u001b[0;34m\u001b[0m\u001b[0;34m\u001b[0m\u001b[0m\n\u001b[0;32m----> 6\u001b[0;31m \u001b[0mmax\u001b[0m \u001b[0;34m=\u001b[0m \u001b[0mceil\u001b[0m\u001b[0;34m(\u001b[0m\u001b[0mdata\u001b[0m\u001b[0;34m.\u001b[0m\u001b[0mmax\u001b[0m\u001b[0;34m(\u001b[0m\u001b[0;34m)\u001b[0m\u001b[0;34m[\u001b[0m\u001b[0;34m'Age'\u001b[0m\u001b[0;34m]\u001b[0m\u001b[0;34m)\u001b[0m\u001b[0;34m\u001b[0m\u001b[0;34m\u001b[0m\u001b[0m\n\u001b[0m\u001b[1;32m      7\u001b[0m \u001b[0mmin\u001b[0m \u001b[0;34m=\u001b[0m \u001b[0mfloor\u001b[0m\u001b[0;34m(\u001b[0m\u001b[0mdata\u001b[0m\u001b[0;34m.\u001b[0m\u001b[0mmin\u001b[0m\u001b[0;34m(\u001b[0m\u001b[0;34m)\u001b[0m\u001b[0;34m[\u001b[0m\u001b[0;34m'Age'\u001b[0m\u001b[0;34m]\u001b[0m\u001b[0;34m)\u001b[0m\u001b[0;34m\u001b[0m\u001b[0;34m\u001b[0m\u001b[0m\n\u001b[1;32m      8\u001b[0m \u001b[0mrango\u001b[0m \u001b[0;34m=\u001b[0m \u001b[0mceil\u001b[0m\u001b[0;34m(\u001b[0m\u001b[0;34m(\u001b[0m\u001b[0mmax\u001b[0m \u001b[0;34m-\u001b[0m \u001b[0mmin\u001b[0m\u001b[0;34m)\u001b[0m\u001b[0;34m/\u001b[0m\u001b[0;36m3\u001b[0m\u001b[0;34m)\u001b[0m\u001b[0;34m\u001b[0m\u001b[0;34m\u001b[0m\u001b[0m\n",
            "\u001b[0;32m/usr/local/lib/python3.9/dist-packages/pandas/core/series.py\u001b[0m in \u001b[0;36m__getitem__\u001b[0;34m(self, key)\u001b[0m\n\u001b[1;32m    956\u001b[0m \u001b[0;34m\u001b[0m\u001b[0m\n\u001b[1;32m    957\u001b[0m         \u001b[0;32melif\u001b[0m \u001b[0mkey_is_scalar\u001b[0m\u001b[0;34m:\u001b[0m\u001b[0;34m\u001b[0m\u001b[0;34m\u001b[0m\u001b[0m\n\u001b[0;32m--> 958\u001b[0;31m             \u001b[0;32mreturn\u001b[0m \u001b[0mself\u001b[0m\u001b[0;34m.\u001b[0m\u001b[0m_get_value\u001b[0m\u001b[0;34m(\u001b[0m\u001b[0mkey\u001b[0m\u001b[0;34m)\u001b[0m\u001b[0;34m\u001b[0m\u001b[0;34m\u001b[0m\u001b[0m\n\u001b[0m\u001b[1;32m    959\u001b[0m \u001b[0;34m\u001b[0m\u001b[0m\n\u001b[1;32m    960\u001b[0m         \u001b[0;32mif\u001b[0m \u001b[0mis_hashable\u001b[0m\u001b[0;34m(\u001b[0m\u001b[0mkey\u001b[0m\u001b[0;34m)\u001b[0m\u001b[0;34m:\u001b[0m\u001b[0;34m\u001b[0m\u001b[0;34m\u001b[0m\u001b[0m\n",
            "\u001b[0;32m/usr/local/lib/python3.9/dist-packages/pandas/core/series.py\u001b[0m in \u001b[0;36m_get_value\u001b[0;34m(self, label, takeable)\u001b[0m\n\u001b[1;32m   1067\u001b[0m \u001b[0;34m\u001b[0m\u001b[0m\n\u001b[1;32m   1068\u001b[0m         \u001b[0;31m# Similar to Index.get_value, but we do not fall back to positional\u001b[0m\u001b[0;34m\u001b[0m\u001b[0;34m\u001b[0m\u001b[0m\n\u001b[0;32m-> 1069\u001b[0;31m         \u001b[0mloc\u001b[0m \u001b[0;34m=\u001b[0m \u001b[0mself\u001b[0m\u001b[0;34m.\u001b[0m\u001b[0mindex\u001b[0m\u001b[0;34m.\u001b[0m\u001b[0mget_loc\u001b[0m\u001b[0;34m(\u001b[0m\u001b[0mlabel\u001b[0m\u001b[0;34m)\u001b[0m\u001b[0;34m\u001b[0m\u001b[0;34m\u001b[0m\u001b[0m\n\u001b[0m\u001b[1;32m   1070\u001b[0m         \u001b[0;32mreturn\u001b[0m \u001b[0mself\u001b[0m\u001b[0;34m.\u001b[0m\u001b[0mindex\u001b[0m\u001b[0;34m.\u001b[0m\u001b[0m_get_values_for_loc\u001b[0m\u001b[0;34m(\u001b[0m\u001b[0mself\u001b[0m\u001b[0;34m,\u001b[0m \u001b[0mloc\u001b[0m\u001b[0;34m,\u001b[0m \u001b[0mlabel\u001b[0m\u001b[0;34m)\u001b[0m\u001b[0;34m\u001b[0m\u001b[0;34m\u001b[0m\u001b[0m\n\u001b[1;32m   1071\u001b[0m \u001b[0;34m\u001b[0m\u001b[0m\n",
            "\u001b[0;32m/usr/local/lib/python3.9/dist-packages/pandas/core/indexes/base.py\u001b[0m in \u001b[0;36mget_loc\u001b[0;34m(self, key, method, tolerance)\u001b[0m\n\u001b[1;32m   3629\u001b[0m                 \u001b[0;32mreturn\u001b[0m \u001b[0mself\u001b[0m\u001b[0;34m.\u001b[0m\u001b[0m_engine\u001b[0m\u001b[0;34m.\u001b[0m\u001b[0mget_loc\u001b[0m\u001b[0;34m(\u001b[0m\u001b[0mcasted_key\u001b[0m\u001b[0;34m)\u001b[0m\u001b[0;34m\u001b[0m\u001b[0;34m\u001b[0m\u001b[0m\n\u001b[1;32m   3630\u001b[0m             \u001b[0;32mexcept\u001b[0m \u001b[0mKeyError\u001b[0m \u001b[0;32mas\u001b[0m \u001b[0merr\u001b[0m\u001b[0;34m:\u001b[0m\u001b[0;34m\u001b[0m\u001b[0;34m\u001b[0m\u001b[0m\n\u001b[0;32m-> 3631\u001b[0;31m                 \u001b[0;32mraise\u001b[0m \u001b[0mKeyError\u001b[0m\u001b[0;34m(\u001b[0m\u001b[0mkey\u001b[0m\u001b[0;34m)\u001b[0m \u001b[0;32mfrom\u001b[0m \u001b[0merr\u001b[0m\u001b[0;34m\u001b[0m\u001b[0;34m\u001b[0m\u001b[0m\n\u001b[0m\u001b[1;32m   3632\u001b[0m             \u001b[0;32mexcept\u001b[0m \u001b[0mTypeError\u001b[0m\u001b[0;34m:\u001b[0m\u001b[0;34m\u001b[0m\u001b[0;34m\u001b[0m\u001b[0m\n\u001b[1;32m   3633\u001b[0m                 \u001b[0;31m# If we have a listlike key, _check_indexing_error will raise\u001b[0m\u001b[0;34m\u001b[0m\u001b[0;34m\u001b[0m\u001b[0m\n",
            "\u001b[0;31mKeyError\u001b[0m: 'Age'"
          ]
        }
      ]
    },
    {
      "cell_type": "code",
      "source": [
        "data.head(50)"
      ],
      "metadata": {
        "id": "-Lg8GeTyAO1G"
      },
      "execution_count": null,
      "outputs": []
    },
    {
      "cell_type": "code",
      "source": [
        "data_train = data.iloc[:215000]\n",
        "data_test = data.iloc[215000:]"
      ],
      "metadata": {
        "id": "gOtcI8Nk3-e3"
      },
      "execution_count": null,
      "outputs": []
    },
    {
      "cell_type": "code",
      "source": [
        "data_train"
      ],
      "metadata": {
        "id": "l0E3Yb2251b9"
      },
      "execution_count": null,
      "outputs": []
    }
  ]
}